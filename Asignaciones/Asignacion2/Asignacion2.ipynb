{
 "cells": [
  {
   "cell_type": "markdown",
   "metadata": {
    "deletable": true,
    "editable": true
   },
   "source": [
    "# Asignación 2"
   ]
  },
  {
   "cell_type": "markdown",
   "metadata": {
    "deletable": true,
    "editable": true
   },
   "source": [
    "1 .Creamos un un conjunto aleatorio de 30 puntos en un plano de dos dimensiones. Usamos la convención `30 x2`:"
   ]
  },
  {
   "cell_type": "code",
   "execution_count": 1,
   "metadata": {
    "collapsed": false,
    "deletable": true,
    "editable": true
   },
   "outputs": [
    {
     "data": {
      "image/png": "[encoded data removed]",
      "text/plain": [
       "<matplotlib.figure.Figure at 0x7f47b8d2d160>"
      ]
     },
     "metadata": {},
     "output_type": "display_data"
    }
   ],
   "source": [
    "import numpy as np\n",
    "import matplotlib.pyplot as plt\n",
    "import seaborn; seaborn.set()\n",
    "\n",
    "\n",
    "X = np.random.rand(30, 2)\n",
    "plt.scatter(X[:, 0], X[:, 1], s=100)\n",
    "plt.show()"
   ]
  },
  {
   "cell_type": "markdown",
   "metadata": {
    "deletable": true,
    "editable": true
   },
   "source": [
    "Escribe un programa  o sentencias en Python-Numpy  que, calcula la distancia, entre cada par de puntos. Utiliza broadcasting y aggregation."
   ]
  },
  {
   "cell_type": "code",
   "execution_count": 2,
   "metadata": {
    "collapsed": true,
    "deletable": true,
    "editable": true
   },
   "outputs": [],
   "source": [
    "# Tu codigo"
   ]
  },
  {
   "cell_type": "markdown",
   "metadata": {
    "deletable": true,
    "editable": true
   },
   "source": [
    "Escribe una sentencia, para calcular la diferencia y el cuadrado de sus coordenadas. Suma las diferencias de las coordenadas al cuadrado, para conseguir la distancia cuadrada."
   ]
  },
  {
   "cell_type": "code",
   "execution_count": 3,
   "metadata": {
    "collapsed": true,
    "deletable": true,
    "editable": true
   },
   "outputs": [],
   "source": [
    "# Tu codigo"
   ]
  },
  {
   "cell_type": "markdown",
   "metadata": {
    "deletable": true,
    "editable": true
   },
   "source": [
    "Comprueba lo que se estás  haciendo, analizando la  diagonal de esta matriz."
   ]
  },
  {
   "cell_type": "code",
   "execution_count": 4,
   "metadata": {
    "collapsed": false,
    "deletable": true,
    "editable": true
   },
   "outputs": [],
   "source": [
    "# Codigo"
   ]
  },
  {
   "cell_type": "markdown",
   "metadata": {
    "deletable": true,
    "editable": true
   },
   "source": [
    "Con la distancia establecida, usa `np.argsort`  para ordenar a lo largo de cada fila. Las columnas más a la izquierda darán entonces los índices de los vecinos más próximos."
   ]
  },
  {
   "cell_type": "code",
   "execution_count": 5,
   "metadata": {
    "collapsed": true,
    "deletable": true,
    "editable": true
   },
   "outputs": [],
   "source": [
    "# codigo"
   ]
  },
  {
   "cell_type": "markdown",
   "metadata": {
    "deletable": true,
    "editable": true
   },
   "source": [
    "Si todo está ocurriendo como se espera, debes observar que la primera columna da los números   ordenados: esto se debe al hecho de que el vecino más cercano de cada punto es el mismo, como cabría esperar.\n",
    "\n",
    "Si  estamos interesados en los `k` vecinos más cercanos, todo lo que necesitamos es dividir cada fila de manera que las  `k + 1` distancias  cuadradas más pequeñas vienen primero, con distancias mayores llenando las posiciones restantes de la matriz. Realiza esta operación utilizando la función `np.argpartition`:"
   ]
  },
  {
   "cell_type": "code",
   "execution_count": 6,
   "metadata": {
    "collapsed": true,
    "deletable": true,
    "editable": true
   },
   "outputs": [],
   "source": [
    "# Tu codigo\n"
   ]
  },
  {
   "cell_type": "markdown",
   "metadata": {
    "deletable": true,
    "editable": true
   },
   "source": [
    "Con el fin de visualizar esta red de vecinos, grafica los puntos junto con las líneas que representan las conexiones de cada punto a sus dos vecinos más cercanos. Un ejemplo es:\n",
    "\n",
    "![](k-vecinos.png)"
   ]
  },
  {
   "cell_type": "markdown",
   "metadata": {
    "deletable": true,
    "editable": true
   },
   "source": [
    "Presenta un reporte de este procedimiento de Numpy y el implementado en [Scikit-learn sobre KD-Tree](http://scikit-learn.org/stable/modules/generated/sklearn.neighbors.KDTree.html)."
   ]
  },
  {
   "cell_type": "markdown",
   "metadata": {
    "deletable": true,
    "editable": true
   },
   "source": [
    "Esta pregunta es un adelanto a lo que viene, sobre  extraer datos  de un archivo `HTML`, `XML`, `CSV` o `JSON`, o incluso de texto sin formato. Asumiendo que conocemos  las etiquetas de `HTML` y `XML` y su estructura  y  como  separar las etiquetas de los datos y normalizar las palabras (Sino lo sabes ¡Vamos a practicar!) "
   ]
  },
  {
   "cell_type": "markdown",
   "metadata": {
    "deletable": true,
    "editable": true
   },
   "source": [
    "2 .Escriba un programa que, dado el  `URL` de una página web, reporte los nombres y destinos de `enlaces caidos` en la página. Para el propósito de este ejercicio, se dice que un enlace está caido, si falla el intento de abrirlo con `urllib.request.urlopen()`."
   ]
  },
  {
   "cell_type": "code",
   "execution_count": 7,
   "metadata": {
    "collapsed": true,
    "deletable": true,
    "editable": true
   },
   "outputs": [],
   "source": [
    "# Tu codigo"
   ]
  },
  {
   "cell_type": "markdown",
   "metadata": {
    "deletable": true,
    "editable": true
   },
   "source": [
    "3 . [MediaWiki](https://www.mediawiki.org/wiki/API:Main_page) proporciona una API basada en JSON que permite el acceso programable a  datos de  Wikipedia. Escribe un programa que reporte los diez [stems][https://en.wikipedia.org/wiki/Science,_technology,_engineering,_and_mathematics] más frecuentemente usados en la página de Wikipedia titulada \"Data science\".\n",
    "\n",
    "* Usa HTTP y no HTTPS\n",
    "* Lee el archivo *Un ejemplo simple* o en inglés *simple example* de la página de [MediaWiki](https://www.mediawiki.org/wiki/API:Main_page) y útilizalo en la base de tu programa.\n",
    "* Primero, obtenga el ID de la página por título, luego obtenga la página por su ID.\n",
    "* Explora visualmente los datos JSON, especialmente las claves en los diferentes niveles de jerarquía."
   ]
  },
  {
   "cell_type": "code",
   "execution_count": 8,
   "metadata": {
    "collapsed": true,
    "deletable": true,
    "editable": true
   },
   "outputs": [],
   "source": [
    "# Tu codigo"
   ]
  },
  {
   "cell_type": "markdown",
   "metadata": {
    "deletable": true,
    "editable": true
   },
   "source": [
    "3 . Escribe un programa que usa Wikipedia para calcular la similitud semántica entre diferentes géneros de música `rock/ pop`. Comienza con la lista de [grupos musicales principales por género](https://en.wikipedia.org/wiki/Category:Rock_music_groups_by_genre)(ten en cuenta que esta lista es jerárquica y contiene subcategorías.). Procesa recursivamente la lista y  hasta encontrar todos los grupos relevantes (puede restringir tu exploración para seleccionar subcategorías, como los grupos de rock británicos, para ahorrar tiempo y tráfico). Para cada grupo encontrado, extraiga los géneros, si es posible. Usa el índice de similitud [Jaccard](https://en.wikipedia.org/wiki/Jaccard_index) como una medida de similitud semántica. Por cierto, ¿cuántos géneros están ahí fuera y cuáles son los géneros más relacionados?."
   ]
  },
  {
   "cell_type": "code",
   "execution_count": 9,
   "metadata": {
    "collapsed": true,
    "deletable": true,
    "editable": true
   },
   "outputs": [],
   "source": [
    "# Tu codigo"
   ]
  },
  {
   "cell_type": "markdown",
   "metadata": {
    "deletable": true,
    "editable": true
   },
   "source": [
    "4 .Escriba un programa Python que, para cada palabra en un archivo dado, registre la palabra en sí, su número ordinal en el archivo (a partir de 1) y el [etiquetado (part-of-speech tagging)](http://www.nltk.org/book/ch05.html) en una base de datos MySQL. Utilice `NLTK WordPunctTokenizer`  para reconocer palabras. Suponga que las palabras son lo suficientemente cortas como para caber en el tipo de datos `TINYTEXT MySQL`. Diseñe el esquema de base de datos, cree todas las tablas necesarias y juegue con ellas a través de la interfaz de línea de comandos antes de iniciar cualquier codificación de Python."
   ]
  },
  {
   "cell_type": "code",
   "execution_count": 10,
   "metadata": {
    "collapsed": true,
    "deletable": true,
    "editable": true
   },
   "outputs": [],
   "source": [
    "# Tu codigo"
   ]
  },
  {
   "cell_type": "markdown",
   "metadata": {
    "deletable": true,
    "editable": true
   },
   "source": [
    "5 . La sentencia de `MySQL` `DESCRIBE table_name`, realiza un reporte de los nombres, tipos de datos, restricciones, valores predeterminados, etc,  de todas las columnas en una tabla. Escribe un programa Python que transfiera todos los datos de una tabla MySQL (designada por el usuario) a un documento `MongoDB`. El programa no debe modificar los timestamps."
   ]
  },
  {
   "cell_type": "code",
   "execution_count": 12,
   "metadata": {
    "collapsed": true,
    "deletable": true,
    "editable": true
   },
   "outputs": [],
   "source": [
    "# Tu codigo.."
   ]
  },
  {
   "cell_type": "code",
   "execution_count": null,
   "metadata": {
    "collapsed": true
   },
   "outputs": [],
   "source": []
  }
 ],
 "metadata": {
  "kernelspec": {
   "display_name": "Python 3",
   "language": "python",
   "name": "python3"
  },
  "language_info": {
   "codemirror_mode": {
    "name": "ipython",
    "version": 3
   },
   "file_extension": ".py",
   "mimetype": "text/x-python",
   "name": "python",
   "nbconvert_exporter": "python",
   "pygments_lexer": "ipython3",
   "version": "3.5.2"
  }
 },
 "nbformat": 4,
 "nbformat_minor": 1
}
