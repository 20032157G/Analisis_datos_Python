{
 "cells": [
  {
   "cell_type": "markdown",
   "metadata": {
    "deletable": true,
    "editable": true
   },
   "source": [
    "# Ipython y Jupyter\n",
    "\n",
    "### (Cuaderno basado de las notas de Jake VanderPlas)\n",
    "\n",
    "\n",
    "Hay muchas opciones de  entornos de desarrollo para  Python. [IPython] (http://ipython.org/)  una abreviación de ** Interactive Python**  fue iniciado en 2001 por Fernando Perez como un  intérprete mejorado de Python y desde entonces se ha convertido en un proyecto que busca ser,  en palabras de Pérez una \"herramientas para todo el ciclo de vida de la investigación científica\". Si Python es el motor de nuestra tarea en análisis de datos, se podría pensar en IPython como el panel de control interactivo.\n",
    "\n",
    "Además de ser una interfaz interactiva útil para Python, IPython también proporciona una serie de adiciones sintácticas útiles al lenguaje  y  está además está estrechamente vinculado con el [Proyecto Jupyter ] (http://jupyter.org), que proporciona un Notebook que se muestra  en un  navegador muy  útil para el desarrollo, colaboración, intercambio y hasta la publicación de los resultados del proceso de  análisis de datos.\n",
    "\n",
    "Los  notebooks de  IPython son  un caso especial de una estructura más amplia conocida como   Jupyter Notebook, que abarca Notebooks  para Julia, R, Scala  y otros lenguajes de programación.\n",
    "\n",
    "Hay dos formas principales de usar IPython : el shell IPython y los notebook de IPython. \n",
    "\n",
    "Por ejemplo podemos  lanzar el intérprete IPython escribiendo ** `` ipython`` ** en la línea de comandos y seguir adelante\n",
    "\n",
    "```\n",
    "c-lara@Lara:~$ ipython\n",
    "Python 3.5.2 |Continuum Analytics, Inc.| (default, Jul  2 2016, 17:53:06) \n",
    "Type \"copyright\", \"credits\" or \"license\" for more information.\n",
    "\n",
    "IPython 5.1.0 -- An enhanced Interactive Python.\n",
    "?         -> Introduction and overview of IPython's features.\n",
    "%quickref -> Quick reference.\n",
    "help      -> Python's own help system.\n",
    "object?   -> Details about 'object', use 'object??' for extra details.\n",
    "\n",
    "In [1]: \n",
    "```"
   ]
  },
  {
   "cell_type": "markdown",
   "metadata": {
    "deletable": true,
    "editable": true
   },
   "source": [
    "Jupyter notebook es una interfaz gráfica que se muestra en un navegador web para el shell de IPython y construye un  conjunto de capacidades de visualización dinámica, además de ejecutar instrucciones Python/ IPython, el notebook permite al usuario incluir texto con formato, visualizaciones estáticas y dinámicas, ecuaciones matemáticas, widgets de JavaScript y mucho más. Estos documentos se pueden guardar de una manera que permite a otras personas abrirlos y ejecutar el código en sus propios sistemas.\n",
    "\n",
    "Aunque el  IPython Notebook es visto y editado  a través de la ventana del navegador web, debe conectarse a un proceso en ejecución de Python para ejecutar código. Este proceso (conocido como \"kernel\") se puede iniciar ejecutando el siguiente comando en el shell del sistema\n",
    "\n",
    "```\n",
    "c-lara@Lara:~/Escritorio$ jupyter notebook\n",
    "\n",
    "```\n",
    "\n",
    "Este comando lanzará un servidor web local que será visible en un navegador. Inmediatamente lanza  un registro que muestra lo que está haciendo; ese registro se ve  como esto\n",
    "\n",
    "```\n",
    "c-lara@Lara:~/Escritorio$ jupyter notebook\n",
    "[I 21:27:10.953 NotebookApp] Writing notebook server cookie secret to /run/user/1001/jupyter/notebook_cookie_secret\n",
    "[I 21:27:16.162 NotebookApp] Serving notebooks from local directory: /home/c-lara/Escritorio\n",
    "[I 21:27:16.162 NotebookApp] 0 active kernels \n",
    "[I 21:27:16.162 NotebookApp] The Jupyter Notebook is running at: http://localhost:8888/\n",
    "[I 21:27:16.163 NotebookApp] Use Control-C to stop this server and shut down all kernels (twice to skip confirmation).\n",
    "[W 21:27:27.073 NotebookApp] Notebook 01.00-IPython-Beyond-Normal-Python.ipynb is not trusted\n",
    "[W 21:27:27.188 NotebookApp] 404 GET /nbextensions/widgets/notebook/js/extension.js?v=20170315212710 (127.0.0.1) 54.55ms referer=http://localhost:8888/notebooks/01.00-IPython-Beyond-Normal-Python.ipynb\n",
    "\n",
    "```\n",
    "\n",
    "Al escribir este  comando, el navegador predeterminado debe abrirse automáticamente y navegar a la URL local listada; la dirección exacta dependerá del sistema. Si el navegador no se abre automáticamente, podemos abrir una ventana y abrir manualmente esta dirección (*http://localhost:8888/* en este ejemplo)."
   ]
  },
  {
   "cell_type": "markdown",
   "metadata": {
    "deletable": true,
    "editable": true
   },
   "source": [
    "## Ayuda y documentación en Jupyter\n",
    "\n",
    "\n",
    "En análisis de datos, los recursos web  como la documentación en línea y las respuestas de [StackOverflow](http://stackoverflow.com/documentation/python/topics) contienen una gran cantidad de información que puede ser de ayuda   en un tema que se quiera conocer o resolver. El aprendizaje eficaz en el análisis de datos no se basa en la memorización  para encontrar la información que no conoce, sino  a través de un motor de búsqueda web o lista de correos de usuarios.\n",
    "\n",
    "Una de las funciones más útiles de IPython/Jupyter es acortar la brecha entre el usuario y el tipo de documentación y la búsqueda que se hace en un entorno laboral para resolver un problema  de manera eficaz. Mientras que las búsquedas en la web siguen desempeñando un papel en la respuesta a preguntas complicadas, se puede encontrar una increíble cantidad de información a través de la documentación de Ipython-Jupyter. Algunos ejemplos de las preguntas que IPython-Jupyter  puede ayudar a responder, pueden ser\n",
    "\n",
    " * ¿Cómo llamo a esta función? ¿Qué argumentos y opciones tiene?\n",
    " * ¿Qué aspecto tiene el código fuente de este objeto de Python?\n",
    " * ¿Qué contenido de este paquete he importado? ¿Qué atributos o métodos tiene este objeto?\n",
    "\n",
    "IPython-Jupyter tiene herramientas  para acceder rápidamente a esta información, por ejemplo `?`   explora la documentación, `??`  explora el código fuente y la tecla `Tab`  para el autocompletado.\n"
   ]
  },
  {
   "cell_type": "code",
   "execution_count": 19,
   "metadata": {
    "collapsed": false,
    "deletable": true,
    "editable": true
   },
   "outputs": [
    {
     "name": "stdout",
     "output_type": "stream",
     "text": [
      "Help on built-in function len in module builtins:\n",
      "\n",
      "len(obj, /)\n",
      "    Return the number of items in a container.\n",
      "\n"
     ]
    }
   ],
   "source": [
    "help(len)"
   ]
  },
  {
   "cell_type": "markdown",
   "metadata": {
    "deletable": true,
    "editable": true
   },
   "source": [
    "IPython introduce el caractr `?` como una abreviatura para acceder a esta documentación y otra información relevante"
   ]
  },
  {
   "cell_type": "code",
   "execution_count": 22,
   "metadata": {
    "collapsed": false,
    "deletable": true,
    "editable": true
   },
   "outputs": [],
   "source": [
    "len?"
   ]
  },
  {
   "cell_type": "code",
   "execution_count": 23,
   "metadata": {
    "collapsed": true,
    "deletable": true,
    "editable": true
   },
   "outputs": [],
   "source": [
    "L = ['cesar', 2, 'True']\n",
    "L?"
   ]
  },
  {
   "cell_type": "markdown",
   "metadata": {
    "deletable": true,
    "editable": true
   },
   "source": [
    "Este herramienta trabaja  para las funciones u otros objetos que podemos crear."
   ]
  },
  {
   "cell_type": "code",
   "execution_count": 27,
   "metadata": {
    "collapsed": false,
    "deletable": true,
    "editable": true
   },
   "outputs": [
    {
     "name": "stdout",
     "output_type": "stream",
     "text": [
      "Esta es la funcion 'f'\n",
      "Estoy llamando a  'g' ahora:\n",
      "Hola, soy yo 'g'\n",
      "Gracias por llamarme \n"
     ]
    }
   ],
   "source": [
    "def f():\n",
    "    \"\"\"Funcion dentro de otra funcion\"\"\"\n",
    "    def g():\n",
    "        print(\"Hola, soy yo 'g'\")\n",
    "        print(\"Gracias por llamarme \")\n",
    "        \n",
    "    print(\"Esta es la funcion 'f'\")\n",
    "    print(\"Estoy llamando a  'g' ahora:\")\n",
    "    g()\n",
    "    \n",
    "f()"
   ]
  },
  {
   "cell_type": "code",
   "execution_count": 28,
   "metadata": {
    "collapsed": true,
    "deletable": true,
    "editable": true
   },
   "outputs": [],
   "source": [
    "f?"
   ]
  },
  {
   "cell_type": "markdown",
   "metadata": {
    "deletable": true,
    "editable": true
   },
   "source": [
    "Este rápido acceso a la documentación a través de docstrings es una de las razones por las que debería tener el hábito de agregar siempre esta documentación en el  código que escribimos.\n",
    "\n",
    "Debido a que el lenguaje Python es fácil de leer, se puede obtener otro nivel de conocimiento mediante la lectura del código fuente de cualquier objeto que se tenga. IPython-Jupyter  proporciona un acceso directo al código fuente con el signo de interrogación doble `??`"
   ]
  },
  {
   "cell_type": "code",
   "execution_count": 29,
   "metadata": {
    "collapsed": true,
    "deletable": true,
    "editable": true
   },
   "outputs": [],
   "source": [
    "f??"
   ]
  },
  {
   "cell_type": "markdown",
   "metadata": {},
   "source": [
    "### Completación con Tab\n",
    "\n",
    "Una  interfaz útil de Python es el uso de la tecla de tabulación para autocompletar y explorar el contenido de objetos, módulos y espacios de nombres. En los ejemplos que siguen, usaremos `<TAB>` para indicar cuándo debemos pulsar la tecla  `Tab`. "
   ]
  },
  {
   "cell_type": "code",
   "execution_count": 10,
   "metadata": {
    "collapsed": true
   },
   "outputs": [],
   "source": [
    "M = [3, 7, 9]"
   ]
  },
  {
   "cell_type": "markdown",
   "metadata": {},
   "source": [
    "```ipython\n",
    "In [11]: M.<TAB>\n",
    "M.append   M.copy     M.extend   M.insert   M.remove   M.sort     \n",
    "M.clear    M.count    M.index    M.pop      M.reverse  \n",
    "```\n",
    "\n",
    "Para restringir la lista, podemos escribir el primer carácter o varios caracteres del nombre y la tecla Tab encontrará los atributos y métodos correspondientes\n",
    "\n",
    "\n",
    "```ipython\n",
    "In [12]: M.c<TAB>\n",
    "M.clear  M.copy   M.count  \n",
    "\n",
    "In [12]: M.co<TAB>\n",
    "L.copy   M.count \n",
    "```\n",
    "\n",
    "Aunque Python no tiene una distinción estrictamente forzada entre atributos públicos y atributos privados internos, por convención se utiliza un subrayado  para denotar dichos métodos.\n",
    "\n",
    "Para mayor claridad, estos métodos privados y métodos especiales se omite de la lista de forma predeterminada, pero es posible enumerarlos escribiendo explícitamente el subrayado\n",
    "\n",
    "```ipython\n",
    "In [13]: M._<TAB>\n",
    "M.__add__           M.__gt__            M.__reduce__\n",
    "M.__class__         M.__hash__          M.__reduce_ex__\n",
    "```"
   ]
  },
  {
   "cell_type": "markdown",
   "metadata": {},
   "source": [
    "La completación también es útil cuando se importa objetos de paquetes\n",
    "\n",
    "```\n",
    "In [14]: from itertools import co<TAB>\n",
    "combinations                   compress\n",
    "combinations_with_replacement  count\n",
    "\n",
    "```\n",
    "\n",
    "Del mismo modo, puede utilizar la completación  para ver qué importaciones están disponibles en el sistema (esto cambiará dependiendo de qué scripts y módulos de terceros sean visibles para su sesión de Python)\n",
    "\n",
    "```\n",
    "In [15]: import <TAB>\n",
    "Display all 399 possibilities? (y or n)\n",
    "Crypto              dis                 py_compile\n",
    "Cython              distutils           pyclbr\n",
    "...                 ...                 ...\n",
    "difflib             pwd                 zmq\n",
    "\n",
    "In [16]: import h<TAB>\n",
    "hashlib             hmac                http         \n",
    "heapq               html                husl         \n",
    "```\n",
    "\n",
    "\n"
   ]
  },
  {
   "cell_type": "markdown",
   "metadata": {},
   "source": [
    "IPython proporciona un medio de coincidencia de comodines para nombres que utilizan el carácter *."
   ]
  },
  {
   "cell_type": "code",
   "execution_count": 12,
   "metadata": {
    "collapsed": true
   },
   "outputs": [],
   "source": [
    "*Warning?"
   ]
  },
  {
   "cell_type": "markdown",
   "metadata": {},
   "source": [
    "Del mismo modo, supongamos que estamos buscando un método de cadena que contenga la palabra `rep` en algún lugar de su nombre. Podemos buscarlo de esta manera"
   ]
  },
  {
   "cell_type": "code",
   "execution_count": 14,
   "metadata": {
    "collapsed": true
   },
   "outputs": [],
   "source": [
    "str.*rep*?"
   ]
  },
  {
   "cell_type": "markdown",
   "metadata": {
    "deletable": true,
    "editable": true
   },
   "source": [
    "## Comandos mágicos\n",
    "\n",
    "IPython añade mejoras a la sintaxis de Python. Algunas de esta  mejoras son conocidas en IPython como comandos mágicos y son prefijados por el carácter `%`.\n",
    "\n",
    "Estos comandos mágicos están diseñados para resolver sucintamente varios problemas comunes en el análisis de datos. Los comandos mágicos se pueden dividir de dos formas: unos que se aplican sobre una línea  de entrada (line magics) que se indican con un el prefijo `%` y aquellos que  operan en múltiples líneas de entrada y  que se indican con un prefijo doble `%%`."
   ]
  },
  {
   "cell_type": "markdown",
   "metadata": {
    "deletable": true,
    "editable": true
   },
   "source": [
    "### Pegando  bloques de código %paste and %cpaste\n",
    "\n",
    "Al trabajar en el intérprete de IPython, es un error común de que pegar  bloques de código de varias líneas puede conducir a errores inesperados, especialmente cuando tratamos con identación o marcadores del interprete.\n"
   ]
  },
  {
   "cell_type": "markdown",
   "metadata": {
    "deletable": true,
    "editable": true
   },
   "source": [
    "### Corriendo código  externo %run \n",
    "\n",
    "A medida que comenzamos  a desarrollar un código más extenso, es probable que se encuentre trabajando tanto en IPython para la exploración interactiva como en un editor de texto para almacenar código que se desee reutilizar. En lugar de ejecutar este código en una nueva ventana, puede ser conveniente ejecutarlo dentro de una  sesión IPython. Esto se puede hacer con `%run`"
   ]
  },
  {
   "cell_type": "markdown",
   "metadata": {},
   "source": [
    "### Tiempo de ejecución de código :% timeit\n",
    "\n",
    "Un comando mágico útil es `% timeit`,  que determina  automáticamente el tiempo de ejecución de una instrucción de  Python . Por ejemplo, es posible que desees comprobar el rendimiento de las lista comprensión o el tiempo que se toma una función en recorrer  bucles."
   ]
  },
  {
   "cell_type": "code",
   "execution_count": 17,
   "metadata": {
    "collapsed": false
   },
   "outputs": [
    {
     "name": "stdout",
     "output_type": "stream",
     "text": [
      "1000 loops, best of 3: 582 µs per loop\n"
     ]
    }
   ],
   "source": [
    "%timeit L = [n ** 2 for n in range(1000)]"
   ]
  },
  {
   "cell_type": "code",
   "execution_count": 18,
   "metadata": {
    "collapsed": false
   },
   "outputs": [
    {
     "name": "stdout",
     "output_type": "stream",
     "text": [
      "10000 loops, best of 3: 23.5 µs per loop\n"
     ]
    }
   ],
   "source": [
    "def f(x):\n",
    "    return x*x\n",
    "\n",
    "%timeit for x in range(100): f(x)"
   ]
  },
  {
   "cell_type": "markdown",
   "metadata": {},
   "source": [
    "Para declaraciones de varias líneas, la adición de un segundo signo `%`, permite que este comando mágico  puede manejar múltiples líneas de entrada. Por ejemplo, aquí está la construcción equivalente de un bucle  `for`"
   ]
  },
  {
   "cell_type": "code",
   "execution_count": 19,
   "metadata": {
    "collapsed": false
   },
   "outputs": [
    {
     "name": "stdout",
     "output_type": "stream",
     "text": [
      "1000 loops, best of 3: 669 µs per loop\n"
     ]
    }
   ],
   "source": [
    "%%timeit\n",
    "L = []\n",
    "for n in range(1000):\n",
    "    L.append(n ** 2)"
   ]
  },
  {
   "cell_type": "markdown",
   "metadata": {},
   "source": [
    "Podemos ver  que las lista de comprensión  son aproximadamente 10% más rápidas que la construcción de bucle como en el caso anterior."
   ]
  },
  {
   "cell_type": "markdown",
   "metadata": {},
   "source": [
    "### Ayuda para las funciones mágicas\n",
    "\n",
    "Al igual que las funciones de Python, las funciones mágicas de IPython tienen docstrings, y esta documentación útil se puede acceder de la manera estándar. Así, por ejemplo, para leer la documentación de `% timeit` simplemente  se escribe "
   ]
  },
  {
   "cell_type": "code",
   "execution_count": 20,
   "metadata": {
    "collapsed": true
   },
   "outputs": [],
   "source": [
    " %timeit?"
   ]
  },
  {
   "cell_type": "markdown",
   "metadata": {},
   "source": [
    "La documentación para otras funciones se puede acceder de manera similar. Para acceder a una descripción general de las funciones mágicas disponibles, incluyendo algunos ejemplos, podemos escribir\n"
   ]
  },
  {
   "cell_type": "code",
   "execution_count": 21,
   "metadata": {
    "collapsed": true
   },
   "outputs": [],
   "source": [
    "%magic"
   ]
  },
  {
   "cell_type": "markdown",
   "metadata": {},
   "source": [
    "Para obtener una lista rápida y simple de todas las funciones mágicas disponibles, escribimos\n"
   ]
  },
  {
   "cell_type": "code",
   "execution_count": 22,
   "metadata": {
    "collapsed": false
   },
   "outputs": [
    {
     "data": {
      "application/json": {
       "cell": {
        "!": "OSMagics",
        "HTML": "Other",
        "SVG": "Other",
        "bash": "Other",
        "capture": "ExecutionMagics",
        "debug": "ExecutionMagics",
        "file": "Other",
        "html": "DisplayMagics",
        "javascript": "DisplayMagics",
        "js": "DisplayMagics",
        "latex": "DisplayMagics",
        "perl": "Other",
        "prun": "ExecutionMagics",
        "pypy": "Other",
        "python": "Other",
        "python2": "Other",
        "python3": "Other",
        "ruby": "Other",
        "script": "ScriptMagics",
        "sh": "Other",
        "svg": "DisplayMagics",
        "sx": "OSMagics",
        "system": "OSMagics",
        "time": "ExecutionMagics",
        "timeit": "ExecutionMagics",
        "writefile": "OSMagics"
       },
       "line": {
        "alias": "OSMagics",
        "alias_magic": "BasicMagics",
        "autocall": "AutoMagics",
        "automagic": "AutoMagics",
        "autosave": "KernelMagics",
        "bookmark": "OSMagics",
        "cat": "Other",
        "cd": "OSMagics",
        "clear": "KernelMagics",
        "colors": "BasicMagics",
        "config": "ConfigMagics",
        "connect_info": "KernelMagics",
        "cp": "Other",
        "debug": "ExecutionMagics",
        "dhist": "OSMagics",
        "dirs": "OSMagics",
        "doctest_mode": "BasicMagics",
        "ed": "Other",
        "edit": "KernelMagics",
        "env": "OSMagics",
        "gui": "BasicMagics",
        "hist": "Other",
        "history": "HistoryMagics",
        "killbgscripts": "ScriptMagics",
        "ldir": "Other",
        "less": "KernelMagics",
        "lf": "Other",
        "lk": "Other",
        "ll": "Other",
        "load": "CodeMagics",
        "load_ext": "ExtensionMagics",
        "loadpy": "CodeMagics",
        "logoff": "LoggingMagics",
        "logon": "LoggingMagics",
        "logstart": "LoggingMagics",
        "logstate": "LoggingMagics",
        "logstop": "LoggingMagics",
        "ls": "Other",
        "lsmagic": "BasicMagics",
        "lx": "Other",
        "macro": "ExecutionMagics",
        "magic": "BasicMagics",
        "man": "KernelMagics",
        "matplotlib": "PylabMagics",
        "mkdir": "Other",
        "more": "KernelMagics",
        "mv": "Other",
        "notebook": "BasicMagics",
        "page": "BasicMagics",
        "pastebin": "CodeMagics",
        "pdb": "ExecutionMagics",
        "pdef": "NamespaceMagics",
        "pdoc": "NamespaceMagics",
        "pfile": "NamespaceMagics",
        "pinfo": "NamespaceMagics",
        "pinfo2": "NamespaceMagics",
        "popd": "OSMagics",
        "pprint": "BasicMagics",
        "precision": "BasicMagics",
        "profile": "BasicMagics",
        "prun": "ExecutionMagics",
        "psearch": "NamespaceMagics",
        "psource": "NamespaceMagics",
        "pushd": "OSMagics",
        "pwd": "OSMagics",
        "pycat": "OSMagics",
        "pylab": "PylabMagics",
        "qtconsole": "KernelMagics",
        "quickref": "BasicMagics",
        "recall": "HistoryMagics",
        "rehashx": "OSMagics",
        "reload_ext": "ExtensionMagics",
        "rep": "Other",
        "rerun": "HistoryMagics",
        "reset": "NamespaceMagics",
        "reset_selective": "NamespaceMagics",
        "rm": "Other",
        "rmdir": "Other",
        "run": "ExecutionMagics",
        "save": "CodeMagics",
        "sc": "OSMagics",
        "set_env": "OSMagics",
        "store": "StoreMagics",
        "sx": "OSMagics",
        "system": "OSMagics",
        "tb": "ExecutionMagics",
        "time": "ExecutionMagics",
        "timeit": "ExecutionMagics",
        "unalias": "OSMagics",
        "unload_ext": "ExtensionMagics",
        "who": "NamespaceMagics",
        "who_ls": "NamespaceMagics",
        "whos": "NamespaceMagics",
        "xdel": "NamespaceMagics",
        "xmode": "BasicMagics"
       }
      },
      "text/plain": [
       "Available line magics:\n",
       "%alias  %alias_magic  %autocall  %automagic  %autosave  %bookmark  %cat  %cd  %clear  %colors  %config  %connect_info  %cp  %debug  %dhist  %dirs  %doctest_mode  %ed  %edit  %env  %gui  %hist  %history  %killbgscripts  %ldir  %less  %lf  %lk  %ll  %load  %load_ext  %loadpy  %logoff  %logon  %logstart  %logstate  %logstop  %ls  %lsmagic  %lx  %macro  %magic  %man  %matplotlib  %mkdir  %more  %mv  %notebook  %page  %pastebin  %pdb  %pdef  %pdoc  %pfile  %pinfo  %pinfo2  %popd  %pprint  %precision  %profile  %prun  %psearch  %psource  %pushd  %pwd  %pycat  %pylab  %qtconsole  %quickref  %recall  %rehashx  %reload_ext  %rep  %rerun  %reset  %reset_selective  %rm  %rmdir  %run  %save  %sc  %set_env  %store  %sx  %system  %tb  %time  %timeit  %unalias  %unload_ext  %who  %who_ls  %whos  %xdel  %xmode\n",
       "\n",
       "Available cell magics:\n",
       "%%!  %%HTML  %%SVG  %%bash  %%capture  %%debug  %%file  %%html  %%javascript  %%js  %%latex  %%perl  %%prun  %%pypy  %%python  %%python2  %%python3  %%ruby  %%script  %%sh  %%svg  %%sx  %%system  %%time  %%timeit  %%writefile\n",
       "\n",
       "Automagic is ON, % prefix IS NOT needed for line magics."
      ]
     },
     "execution_count": 22,
     "metadata": {},
     "output_type": "execute_result"
    }
   ],
   "source": [
    "%lsmagic\n"
   ]
  },
  {
   "cell_type": "markdown",
   "metadata": {},
   "source": [
    "## Historial de entrada y salida \n",
    "\n",
    "\n",
    "IPython -Jupyter expone varias formas de obtener la salida de comandos anteriores, así como versiones de los propios comandos.\n",
    "\n",
    "### Objetos In y Out\n",
    "\n",
    "Los objetos `In [1]:/Out[1]` dan  pistas sobre cómo se puede acceder a entradas y salidas anteriores en una sesión actual."
   ]
  },
  {
   "cell_type": "code",
   "execution_count": 23,
   "metadata": {
    "collapsed": false
   },
   "outputs": [
    {
     "data": {
      "text/plain": [
       "0.1411200080598672"
      ]
     },
     "execution_count": 23,
     "metadata": {},
     "output_type": "execute_result"
    }
   ],
   "source": [
    "import math\n",
    "\n",
    "math.sin(3)"
   ]
  },
  {
   "cell_type": "code",
   "execution_count": 24,
   "metadata": {
    "collapsed": false
   },
   "outputs": [
    {
     "data": {
      "text/plain": [
       "-0.6536436208636119"
      ]
     },
     "execution_count": 24,
     "metadata": {},
     "output_type": "execute_result"
    }
   ],
   "source": [
    "math.cos(4)"
   ]
  },
  {
   "cell_type": "markdown",
   "metadata": {},
   "source": [
    "Todas las entradas y salidas de nuestra sesión se muestran en el shell con etiquetas `In / Out`. IPytho hace algo maravillos, crea  variables de Python llamadas `In`  y `Out` que se actualizan automáticamente para reflejar el historial de la sesión actual."
   ]
  },
  {
   "cell_type": "code",
   "execution_count": 26,
   "metadata": {
    "collapsed": false
   },
   "outputs": [
    {
     "name": "stdout",
     "output_type": "stream",
     "text": [
      "['', 'def func1(a, b):\\n    return a / b\\n\\ndef func2(x):\\n    a = x\\n    b = x - 1\\n    return func1(a, b)', 'func2(1)', \"get_ipython().magic('xmode Plain')\", 'func2(1)', \"get_ipython().magic('xmode Verbose')\", 'func2(1)', \"get_ipython().magic('debug')\", \"get_ipython().magic('debug')\", \"get_ipython().magic('xmode Plain')\\nget_ipython().magic('pdb on')\\nfunc2(1)\", 'M = [3, 7, 9]', \"get_ipython().magic('psearch *Warning')\", \"get_ipython().magic('psearch *Warning')\", \"get_ipython().magic('psearch str.*rep*')\", \"get_ipython().magic('psearch str.*rep*')\", \"get_ipython().magic('timeit L = [n ** 2 for n in range(1000)]')\", \"def f(x):\\n    return x*x\\n\\nget_ipython().magic('timeit for x in range(100): f(x)')\", \"get_ipython().magic('timeit L = [n ** 2 for n in range(1000)]')\", \"def f(x):\\n    return x*x\\n\\nget_ipython().magic('timeit for x in range(100): f(x)')\", \"get_ipython().run_cell_magic('timeit', '', 'L = []\\\\nfor n in range(1000):\\\\n    L.append(n ** 2)')\", \"get_ipython().magic('pinfo %timeit')\", \"get_ipython().magic('magic')\", \"get_ipython().magic('lsmagic')\", 'import math\\n\\nmath.sin(3)', 'math.cos(4)', 'print(In)', 'print(In)']\n"
     ]
    }
   ],
   "source": [
    "print(In)"
   ]
  },
  {
   "cell_type": "code",
   "execution_count": 27,
   "metadata": {
    "collapsed": false
   },
   "outputs": [
    {
     "name": "stdout",
     "output_type": "stream",
     "text": [
      "['', 'def func1(a, b):\\n    return a / b\\n\\ndef func2(x):\\n    a = x\\n    b = x - 1\\n    return func1(a, b)', 'func2(1)', \"get_ipython().magic('xmode Plain')\", 'func2(1)', \"get_ipython().magic('xmode Verbose')\", 'func2(1)', \"get_ipython().magic('debug')\", \"get_ipython().magic('debug')\", \"get_ipython().magic('xmode Plain')\\nget_ipython().magic('pdb on')\\nfunc2(1)\", 'M = [3, 7, 9]', \"get_ipython().magic('psearch *Warning')\", \"get_ipython().magic('psearch *Warning')\", \"get_ipython().magic('psearch str.*rep*')\", \"get_ipython().magic('psearch str.*rep*')\", \"get_ipython().magic('timeit L = [n ** 2 for n in range(1000)]')\", \"def f(x):\\n    return x*x\\n\\nget_ipython().magic('timeit for x in range(100): f(x)')\", \"get_ipython().magic('timeit L = [n ** 2 for n in range(1000)]')\", \"def f(x):\\n    return x*x\\n\\nget_ipython().magic('timeit for x in range(100): f(x)')\", \"get_ipython().run_cell_magic('timeit', '', 'L = []\\\\nfor n in range(1000):\\\\n    L.append(n ** 2)')\", \"get_ipython().magic('pinfo %timeit')\", \"get_ipython().magic('magic')\", \"get_ipython().magic('lsmagic')\", 'import math\\n\\nmath.sin(3)', 'math.cos(4)', 'print(In)', 'print(In)', 'print(In)']\n"
     ]
    }
   ],
   "source": [
    "print(In)"
   ]
  },
  {
   "cell_type": "code",
   "execution_count": 29,
   "metadata": {
    "collapsed": false
   },
   "outputs": [
    {
     "data": {
      "text/plain": [
       "{22: Available line magics:\n",
       "%alias  %alias_magic  %autocall  %automagic  %autosave  %bookmark  %cat  %cd  %clear  %colors  %config  %connect_info  %cp  %debug  %dhist  %dirs  %doctest_mode  %ed  %edit  %env  %gui  %hist  %history  %killbgscripts  %ldir  %less  %lf  %lk  %ll  %load  %load_ext  %loadpy  %logoff  %logon  %logstart  %logstate  %logstop  %ls  %lsmagic  %lx  %macro  %magic  %man  %matplotlib  %mkdir  %more  %mv  %notebook  %page  %pastebin  %pdb  %pdef  %pdoc  %pfile  %pinfo  %pinfo2  %popd  %pprint  %precision  %profile  %prun  %psearch  %psource  %pushd  %pwd  %pycat  %pylab  %qtconsole  %quickref  %recall  %rehashx  %reload_ext  %rep  %rerun  %reset  %reset_selective  %rm  %rmdir  %run  %save  %sc  %set_env  %store  %sx  %system  %tb  %time  %timeit  %unalias  %unload_ext  %who  %who_ls  %whos  %xdel  %xmode\n",
       "\n",
       "Available cell magics:\n",
       "%%!  %%HTML  %%SVG  %%bash  %%capture  %%debug  %%file  %%html  %%javascript  %%js  %%latex  %%perl  %%prun  %%pypy  %%python  %%python2  %%python3  %%ruby  %%script  %%sh  %%svg  %%sx  %%system  %%time  %%timeit  %%writefile\n",
       "\n",
       "Automagic is ON, % prefix IS NOT needed for line magics.,\n",
       " 23: 0.1411200080598672,\n",
       " 24: -0.6536436208636119}"
      ]
     },
     "execution_count": 29,
     "metadata": {},
     "output_type": "execute_result"
    }
   ],
   "source": [
    "Out"
   ]
  },
  {
   "cell_type": "code",
   "execution_count": 30,
   "metadata": {
    "collapsed": true,
    "deletable": true,
    "editable": true
   },
   "outputs": [],
   "source": [
    "from __future__ import print_function\n",
    "import numpy as np\n",
    "import statsmodels.api as sm\n",
    "import matplotlib.pyplot as plt\n",
    "from statsmodels.sandbox.regression.predstd import wls_prediction_std\n",
    "\n",
    "np.random.seed(9876789)"
   ]
  },
  {
   "cell_type": "code",
   "execution_count": 31,
   "metadata": {
    "collapsed": false,
    "deletable": true,
    "editable": true
   },
   "outputs": [
    {
     "name": "stdout",
     "output_type": "stream",
     "text": [
      "                            OLS Regression Results                            \n",
      "==============================================================================\n",
      "Dep. Variable:                      y   R-squared:                       1.000\n",
      "Model:                            OLS   Adj. R-squared:                  1.000\n",
      "Method:                 Least Squares   F-statistic:                 4.020e+06\n",
      "Date:                Fri, 17 Mar 2017   Prob (F-statistic):          2.83e-239\n",
      "Time:                        02:42:21   Log-Likelihood:                -146.51\n",
      "No. Observations:                 100   AIC:                             299.0\n",
      "Df Residuals:                      97   BIC:                             306.8\n",
      "Df Model:                           2                                         \n",
      "Covariance Type:            nonrobust                                         \n",
      "==============================================================================\n",
      "                 coef    std err          t      P>|t|      [95.0% Conf. Int.]\n",
      "------------------------------------------------------------------------------\n",
      "const          1.3423      0.313      4.292      0.000         0.722     1.963\n",
      "x1            -0.0402      0.145     -0.278      0.781        -0.327     0.247\n",
      "x2            10.0103      0.014    715.745      0.000         9.982    10.038\n",
      "==============================================================================\n",
      "Omnibus:                        2.042   Durbin-Watson:                   2.274\n",
      "Prob(Omnibus):                  0.360   Jarque-Bera (JB):                1.875\n",
      "Skew:                           0.234   Prob(JB):                        0.392\n",
      "Kurtosis:                       2.519   Cond. No.                         144.\n",
      "==============================================================================\n",
      "\n",
      "Warnings:\n",
      "[1] Standard Errors assume that the covariance matrix of the errors is correctly specified.\n"
     ]
    }
   ],
   "source": [
    "# Ejemplo de statsmodels y OLS\n",
    "\n",
    "nmuestra = 100\n",
    "x = np.linspace(0, 10, 100)\n",
    "X = np.column_stack((x, x**2))\n",
    "beta = np.array([1, 0.1, 10])\n",
    "e = np.random.normal(size=nmuestra)\n",
    "\n",
    "X = sm.add_constant(X)\n",
    "y = np.dot(X, beta) + e\n",
    "\n",
    "modelo = sm.OLS(y, X)\n",
    "resultados = modelo.fit()\n",
    "print(resultados.summary())\n"
   ]
  },
  {
   "cell_type": "code",
   "execution_count": 32,
   "metadata": {
    "collapsed": false,
    "deletable": true,
    "editable": true
   },
   "outputs": [
    {
     "name": "stdout",
     "output_type": "stream",
     "text": [
      "['', 'def func1(a, b):\\n    return a / b\\n\\ndef func2(x):\\n    a = x\\n    b = x - 1\\n    return func1(a, b)', 'func2(1)', \"get_ipython().magic('xmode Plain')\", 'func2(1)', \"get_ipython().magic('xmode Verbose')\", 'func2(1)', \"get_ipython().magic('debug')\", \"get_ipython().magic('debug')\", \"get_ipython().magic('xmode Plain')\\nget_ipython().magic('pdb on')\\nfunc2(1)\", 'M = [3, 7, 9]', \"get_ipython().magic('psearch *Warning')\", \"get_ipython().magic('psearch *Warning')\", \"get_ipython().magic('psearch str.*rep*')\", \"get_ipython().magic('psearch str.*rep*')\", \"get_ipython().magic('timeit L = [n ** 2 for n in range(1000)]')\", \"def f(x):\\n    return x*x\\n\\nget_ipython().magic('timeit for x in range(100): f(x)')\", \"get_ipython().magic('timeit L = [n ** 2 for n in range(1000)]')\", \"def f(x):\\n    return x*x\\n\\nget_ipython().magic('timeit for x in range(100): f(x)')\", \"get_ipython().run_cell_magic('timeit', '', 'L = []\\\\nfor n in range(1000):\\\\n    L.append(n ** 2)')\", \"get_ipython().magic('pinfo %timeit')\", \"get_ipython().magic('magic')\", \"get_ipython().magic('lsmagic')\", 'import math\\n\\nmath.sin(3)', 'math.cos(4)', 'print(In)', 'print(In)', 'print(In)', 'Out', 'Out', 'from __future__ import print_function\\nimport numpy as np\\nimport statsmodels.api as sm\\nimport matplotlib.pyplot as plt\\nfrom statsmodels.sandbox.regression.predstd import wls_prediction_std\\n\\nnp.random.seed(9876789)', '# Ejemplo de statsmodels y OLS\\n\\nnmuestra = 100\\nx = np.linspace(0, 10, 100)\\nX = np.column_stack((x, x**2))\\nbeta = np.array([1, 0.1, 10])\\ne = np.random.normal(size=nmuestra)\\n\\nX = sm.add_constant(X)\\ny = np.dot(X, beta) + e\\n\\nmodelo = sm.OLS(y, X)\\nresultados = modelo.fit()\\nprint(resultados.summary())', 'print(In)']\n"
     ]
    }
   ],
   "source": [
    "print(In)"
   ]
  },
  {
   "cell_type": "code",
   "execution_count": 33,
   "metadata": {
    "collapsed": false,
    "deletable": true,
    "editable": true
   },
   "outputs": [
    {
     "data": {
      "text/plain": [
       "{22: Available line magics:\n",
       "%alias  %alias_magic  %autocall  %automagic  %autosave  %bookmark  %cat  %cd  %clear  %colors  %config  %connect_info  %cp  %debug  %dhist  %dirs  %doctest_mode  %ed  %edit  %env  %gui  %hist  %history  %killbgscripts  %ldir  %less  %lf  %lk  %ll  %load  %load_ext  %loadpy  %logoff  %logon  %logstart  %logstate  %logstop  %ls  %lsmagic  %lx  %macro  %magic  %man  %matplotlib  %mkdir  %more  %mv  %notebook  %page  %pastebin  %pdb  %pdef  %pdoc  %pfile  %pinfo  %pinfo2  %popd  %pprint  %precision  %profile  %prun  %psearch  %psource  %pushd  %pwd  %pycat  %pylab  %qtconsole  %quickref  %recall  %rehashx  %reload_ext  %rep  %rerun  %reset  %reset_selective  %rm  %rmdir  %run  %save  %sc  %set_env  %store  %sx  %system  %tb  %time  %timeit  %unalias  %unload_ext  %who  %who_ls  %whos  %xdel  %xmode\n",
       "\n",
       "Available cell magics:\n",
       "%%!  %%HTML  %%SVG  %%bash  %%capture  %%debug  %%file  %%html  %%javascript  %%js  %%latex  %%perl  %%prun  %%pypy  %%python  %%python2  %%python3  %%ruby  %%script  %%sh  %%svg  %%sx  %%system  %%time  %%timeit  %%writefile\n",
       "\n",
       "Automagic is ON, % prefix IS NOT needed for line magics.,\n",
       " 23: 0.1411200080598672,\n",
       " 24: -0.6536436208636119}"
      ]
     },
     "execution_count": 33,
     "metadata": {},
     "output_type": "execute_result"
    }
   ],
   "source": [
    "Out"
   ]
  },
  {
   "cell_type": "markdown",
   "metadata": {},
   "source": [
    "### Supresión de la salida\n",
    "\n",
    "A veces es posible suprimir la salida de una declaración. La manera más fácil de suprimir la salida de un comando es agregar un punto y coma al final de la línea. En el siguiente ejemplo el resultado se calcula en *silencio*  y la salida no se muestra en la pantalla ni se almacena en el diccionario Out."
   ]
  },
  {
   "cell_type": "code",
   "execution_count": 36,
   "metadata": {
    "collapsed": true
   },
   "outputs": [],
   "source": [
    "math.sin(2) + math.cos(2);"
   ]
  },
  {
   "cell_type": "markdown",
   "metadata": {
    "deletable": true,
    "editable": true
   },
   "source": [
    "Para acceder a un lote de entradas anteriores a la vez, el comando mágico `% history` puede ser  muy útil. A continuación se muestra cómo puede imprimir las primeras 16 entradas"
   ]
  },
  {
   "cell_type": "code",
   "execution_count": 34,
   "metadata": {
    "collapsed": false,
    "deletable": true,
    "editable": true
   },
   "outputs": [
    {
     "name": "stdout",
     "output_type": "stream",
     "text": [
      "   1:\n",
      "def func1(a, b):\n",
      "    return a / b\n",
      "\n",
      "def func2(x):\n",
      "    a = x\n",
      "    b = x - 1\n",
      "    return func1(a, b)\n",
      "   2: func2(1)\n",
      "   3: %xmode Plain\n",
      "   4: func2(1)\n",
      "   5: %xmode Verbose\n",
      "   6: func2(1)\n"
     ]
    }
   ],
   "source": [
    "%history -n 1-6"
   ]
  },
  {
   "cell_type": "markdown",
   "metadata": {
    "collapsed": true,
    "deletable": true,
    "editable": true
   },
   "source": [
    "## Jupyter y comandos shell\n",
    "\n",
    "\n",
    "Cuando se trabaja interactivamente con el intérprete Python una de las frustraciones es la necesidad de cambiar entre varias ventanas para acceder a las herramientas Python y las herramientas de línea de comandos del sistema. IPython puentea esta brecha y  proporciona una sintaxis para ejecutar comandos del shell directamente desde el terminal IPython. La magia ocurre con el signo de exclamación: cualquier cosa que aparece después`!`  será ejecutado no por el kernel de Python, sino por la línea de comandos del sistema.\n",
    "\n",
    " Por ejemplo, los comandos `ls`, `pwd` y `echo` se pueden ejecutar de la siguiente manera"
   ]
  },
  {
   "cell_type": "code",
   "execution_count": 2,
   "metadata": {
    "collapsed": false,
    "deletable": true,
    "editable": true
   },
   "outputs": [
    {
     "name": "stdout",
     "output_type": "stream",
     "text": [
      "/home/c-lara/Escritorio\r\n"
     ]
    }
   ],
   "source": [
    "!pwd"
   ]
  },
  {
   "cell_type": "code",
   "execution_count": 3,
   "metadata": {
    "collapsed": false,
    "deletable": true,
    "editable": true
   },
   "outputs": [
    {
     "name": "stdout",
     "output_type": "stream",
     "text": [
      "anaconda3\t\t\t  Imágenes\r\n",
      "Analisis_datos_Python\t\t  integracion.py~\r\n",
      "Analisis_datos_R\t\t  Introduccion-a-la-Ciencia-de-la-Computacion\r\n",
      "Aplicaciones-Python\t\t  Matematicas_cursoProbabilidad\r\n",
      "Aplicaciones-R\t\t\t  M-L\r\n",
      "bin\t\t\t\t  mtheme-master\r\n",
      "cuadratura6.py~\t\t\t  Música\r\n",
      "Curso-Probabilidad\t\t  Notas-Matematica-Discreta\r\n",
      "Curso-R\t\t\t\t  NotasR\r\n",
      "derivadas1.py~\t\t\t  OOP-R\r\n",
      "Descargas\t\t\t  opt\r\n",
      "diferencias-divididas-Newton.py~  Otros-Archivos\r\n",
      "Documentos\t\t\t  Plantillas\r\n",
      "Dropbox\t\t\t\t  Presentaciones-cursos\r\n",
      "Ejemplo-interpolacion.py~\t  Programacion-C\r\n",
      "Ejemplo-Jacobi.py~\t\t  pseint\r\n",
      "Ejemplo-Lagrange_Hermite.py~\t  Público\r\n",
      "Ejemplo-Newton.py~\t\t  __pycache__\r\n",
      "Escritorio\t\t\t  R\r\n",
      "examples.desktop\t\t  seaborn-data\r\n",
      "gauss3.py~\t\t\t  Svm.txt~\r\n",
      "genymotion\t\t\t  Vídeos\r\n"
     ]
    }
   ],
   "source": [
    "!ls /home/c-lara/"
   ]
  },
  {
   "cell_type": "code",
   "execution_count": 4,
   "metadata": {
    "collapsed": false,
    "deletable": true,
    "editable": true
   },
   "outputs": [
    {
     "name": "stdout",
     "output_type": "stream",
     "text": [
      "Linux es amigo de Jupyter\r\n"
     ]
    }
   ],
   "source": [
    "!echo \"Linux es amigo de Jupyter\""
   ]
  },
  {
   "cell_type": "markdown",
   "metadata": {
    "deletable": true,
    "editable": true
   },
   "source": [
    "Los comandos de Shell no sólo se pueden llamar desde IPython-Jupyter , sino que también se pueden hacer interactuar con el espacio de nombres de  IPython. Por ejemplo, puede guardar la salida de cualquier comando de shell en una lista de Python utilizando el operador de asignación"
   ]
  },
  {
   "cell_type": "code",
   "execution_count": 5,
   "metadata": {
    "collapsed": false,
    "deletable": true,
    "editable": true
   },
   "outputs": [
    {
     "name": "stdout",
     "output_type": "stream",
     "text": [
      "['anaconda3', 'Analisis_datos_Python', 'Analisis_datos_R', 'Aplicaciones-Python', 'Aplicaciones-R', 'bin', 'cuadratura6.py~', 'Curso-Probabilidad', 'Curso-R', 'derivadas1.py~', 'Descargas', 'diferencias-divididas-Newton.py~', 'Documentos', 'Dropbox', 'Ejemplo-interpolacion.py~', 'Ejemplo-Jacobi.py~', 'Ejemplo-Lagrange_Hermite.py~', 'Ejemplo-Newton.py~', 'Escritorio', 'examples.desktop', 'gauss3.py~', 'genymotion', 'Imágenes', 'integracion.py~', 'Introduccion-a-la-Ciencia-de-la-Computacion', 'Matematicas_cursoProbabilidad', 'M-L', 'mtheme-master', 'Música', 'Notas-Matematica-Discreta', 'NotasR', 'OOP-R', 'opt', 'Otros-Archivos', 'Plantillas', 'Presentaciones-cursos', 'Programacion-C', 'pseint', 'Público', '__pycache__', 'R', 'seaborn-data', 'Svm.txt~', 'Vídeos']\n"
     ]
    }
   ],
   "source": [
    "cont_directorio = !ls /home/c-lara/\n",
    "print(cont_directorio)"
   ]
  },
  {
   "cell_type": "code",
   "execution_count": 6,
   "metadata": {
    "collapsed": false,
    "deletable": true,
    "editable": true
   },
   "outputs": [
    {
     "name": "stdout",
     "output_type": "stream",
     "text": [
      "['/home/c-lara/Escritorio']\n"
     ]
    }
   ],
   "source": [
    "ubic_directorio = !pwd\n",
    "print(ubic_directorio)"
   ]
  },
  {
   "cell_type": "markdown",
   "metadata": {
    "deletable": true,
    "editable": true
   },
   "source": [
    "Debemos tener  en cuenta que estos resultados no se devuelven como listas, sino como un tipo de retorno de shell especial definido en IPython. Esto se parece y se parece mucho a una lista de Python, pero tiene  funcionalidades adicionales, como los métodos `grep` y `fields` y las propiedades `s`, `n` y `p` que  permiten buscar, filtrar y mostrar los resultados de manera conveniente."
   ]
  },
  {
   "cell_type": "code",
   "execution_count": 8,
   "metadata": {
    "collapsed": false,
    "deletable": true,
    "editable": true
   },
   "outputs": [
    {
     "data": {
      "text/plain": [
       "IPython.utils.text.SList"
      ]
     },
     "execution_count": 8,
     "metadata": {},
     "output_type": "execute_result"
    }
   ],
   "source": [
    "type(cont_directorio)"
   ]
  },
  {
   "cell_type": "markdown",
   "metadata": {
    "deletable": true,
    "editable": true
   },
   "source": [
    "La comunicación en la otra dirección: pasar  las variables de Python en el shell es posible utilizando la sintaxis `{varname}`. Las llaves contienen el nombre de la variable, que es reemplazada por el contenido de la variable en el comando shell."
   ]
  },
  {
   "cell_type": "code",
   "execution_count": 9,
   "metadata": {
    "collapsed": false,
    "deletable": true,
    "editable": true
   },
   "outputs": [
    {
     "name": "stdout",
     "output_type": "stream",
     "text": [
      "Analisis de datos, usa Jupyter\r\n"
     ]
    }
   ],
   "source": [
    "mensaje = \"Analisis de datos, usa Jupyter\"\n",
    "!echo {mensaje}"
   ]
  },
  {
   "cell_type": "markdown",
   "metadata": {
    "deletable": true,
    "editable": true
   },
   "source": [
    "Si juegas con los comandos de shell de IPython durante un tiempo, podrías notar que no puedes usar `cd` para navegar por el sistema de archivos"
   ]
  },
  {
   "cell_type": "code",
   "execution_count": 10,
   "metadata": {
    "collapsed": true,
    "deletable": true,
    "editable": true
   },
   "outputs": [],
   "source": [
    "!cd"
   ]
  },
  {
   "cell_type": "markdown",
   "metadata": {
    "deletable": true,
    "editable": true
   },
   "source": [
    "La razón es que los comandos de shell en el notebook se ejecutan en una subshell temporal. Si desea cambiar el directorio de trabajo de una manera más duradera, se  puede utilizar el comando mágico `% cd`"
   ]
  },
  {
   "cell_type": "code",
   "execution_count": 11,
   "metadata": {
    "collapsed": false,
    "deletable": true,
    "editable": true
   },
   "outputs": [
    {
     "name": "stdout",
     "output_type": "stream",
     "text": [
      "/home/c-lara\n"
     ]
    }
   ],
   "source": [
    "%cd"
   ]
  },
  {
   "cell_type": "code",
   "execution_count": 16,
   "metadata": {
    "collapsed": false,
    "deletable": true,
    "editable": true
   },
   "outputs": [
    {
     "name": "stdout",
     "output_type": "stream",
     "text": [
      "/home/c-lara/Documentos\n"
     ]
    }
   ],
   "source": [
    "cd /home/c-lara/Documentos\n"
   ]
  },
  {
   "cell_type": "markdown",
   "metadata": {
    "deletable": true,
    "editable": true
   },
   "source": [
    "Esto se conoce como función `automagic`  y este comportamiento se puede  con la función  `% automagic`. Además de `% cd`, otras funciones mágicas de tipo shell son `% cat, % cp, % env, % ls, % man, % mkdir, % mor, % mv, % pwd, % rm` y `% rmdir`, cualquiera de las cuales puede se utilizar sin el signo `%` si `automagic` está activado.\n",
    "\n",
    "Esto hace que casi se pueda tratar el prompt de IPython -Jupyter  como si fuera un shell normal."
   ]
  },
  {
   "cell_type": "markdown",
   "metadata": {
    "deletable": true,
    "editable": true
   },
   "source": [
    "## Errores y depuración \n",
    "\n",
    "El desarrollo de código y el análisis de datos siempre requieren un poco de prueba y error y  IPython-Jupyter  contiene herramientas para agilizar este proceso. Brevemente mencionaremos  opciones para controlar el informe de excepciones de Python, seguido por la exploración de herramientas para depurar errores en el código.\n",
    "\n",
    "### Controlando excepciones %xmode\n",
    "\n",
    "La mayor parte del tiempo cuando un script de Python falla, generar  una `excepción`. Cuando el intérprete realiza una de estas excepciones, la información sobre la causa del error se puede encontrar en el rastreo, al que se puede acceder desde  Python. Con la función mágica `% xmode` , IPython  permite controlar la cantidad de información impresa cuando se genera la excepción. Veamos algunos ejemplos"
   ]
  },
  {
   "cell_type": "code",
   "execution_count": 1,
   "metadata": {
    "collapsed": true
   },
   "outputs": [],
   "source": [
    "def func1(a, b):\n",
    "    return a / b\n",
    "\n",
    "def func2(x):\n",
    "    a = x\n",
    "    b = x - 1\n",
    "    return func1(a, b)"
   ]
  },
  {
   "cell_type": "code",
   "execution_count": 2,
   "metadata": {
    "collapsed": false
   },
   "outputs": [
    {
     "ename": "ZeroDivisionError",
     "evalue": "division by zero",
     "output_type": "error",
     "traceback": [
      "\u001b[0;31m---------------------------------------------------------------------------\u001b[0m",
      "\u001b[0;31mZeroDivisionError\u001b[0m                         Traceback (most recent call last)",
      "\u001b[0;32m<ipython-input-2-b2e110f6fc8f>\u001b[0m in \u001b[0;36m<module>\u001b[0;34m()\u001b[0m\n\u001b[0;32m----> 1\u001b[0;31m \u001b[0mfunc2\u001b[0m\u001b[0;34m(\u001b[0m\u001b[0;36m1\u001b[0m\u001b[0;34m)\u001b[0m\u001b[0;34m\u001b[0m\u001b[0m\n\u001b[0m",
      "\u001b[0;32m<ipython-input-1-d849e34d61fb>\u001b[0m in \u001b[0;36mfunc2\u001b[0;34m(x)\u001b[0m\n\u001b[1;32m      5\u001b[0m     \u001b[0ma\u001b[0m \u001b[0;34m=\u001b[0m \u001b[0mx\u001b[0m\u001b[0;34m\u001b[0m\u001b[0m\n\u001b[1;32m      6\u001b[0m     \u001b[0mb\u001b[0m \u001b[0;34m=\u001b[0m \u001b[0mx\u001b[0m \u001b[0;34m-\u001b[0m \u001b[0;36m1\u001b[0m\u001b[0;34m\u001b[0m\u001b[0m\n\u001b[0;32m----> 7\u001b[0;31m     \u001b[0;32mreturn\u001b[0m \u001b[0mfunc1\u001b[0m\u001b[0;34m(\u001b[0m\u001b[0ma\u001b[0m\u001b[0;34m,\u001b[0m \u001b[0mb\u001b[0m\u001b[0;34m)\u001b[0m\u001b[0;34m\u001b[0m\u001b[0m\n\u001b[0m",
      "\u001b[0;32m<ipython-input-1-d849e34d61fb>\u001b[0m in \u001b[0;36mfunc1\u001b[0;34m(a, b)\u001b[0m\n\u001b[1;32m      1\u001b[0m \u001b[0;32mdef\u001b[0m \u001b[0mfunc1\u001b[0m\u001b[0;34m(\u001b[0m\u001b[0ma\u001b[0m\u001b[0;34m,\u001b[0m \u001b[0mb\u001b[0m\u001b[0;34m)\u001b[0m\u001b[0;34m:\u001b[0m\u001b[0;34m\u001b[0m\u001b[0m\n\u001b[0;32m----> 2\u001b[0;31m     \u001b[0;32mreturn\u001b[0m \u001b[0ma\u001b[0m \u001b[0;34m/\u001b[0m \u001b[0mb\u001b[0m\u001b[0;34m\u001b[0m\u001b[0m\n\u001b[0m\u001b[1;32m      3\u001b[0m \u001b[0;34m\u001b[0m\u001b[0m\n\u001b[1;32m      4\u001b[0m \u001b[0;32mdef\u001b[0m \u001b[0mfunc2\u001b[0m\u001b[0;34m(\u001b[0m\u001b[0mx\u001b[0m\u001b[0;34m)\u001b[0m\u001b[0;34m:\u001b[0m\u001b[0;34m\u001b[0m\u001b[0m\n\u001b[1;32m      5\u001b[0m     \u001b[0ma\u001b[0m \u001b[0;34m=\u001b[0m \u001b[0mx\u001b[0m\u001b[0;34m\u001b[0m\u001b[0m\n",
      "\u001b[0;31mZeroDivisionError\u001b[0m: division by zero"
     ]
    }
   ],
   "source": [
    "func2(1)"
   ]
  },
  {
   "cell_type": "markdown",
   "metadata": {},
   "source": [
    "Llamar a la función `func2` produce un error y leer el trazado impreso nos permite ver exactamente lo que sucedió. De forma predeterminada, esta traza incluye varias líneas que muestran el contexto de cada paso que provocó el error. Utilizando la función mágica `% xmode` (abreviatura para el modo Exception) podemos cambiar la información que se imprime.\n",
    "\n",
    "`% xmode` toma un solo argumento, el modo  y hay tres posibilidades: `Plain, Context` y `Verbose`. El valor predeterminado es `Context`  y da salida como la que se muestra anteriormente. `Plain` es más compacto y da menos información."
   ]
  },
  {
   "cell_type": "code",
   "execution_count": 3,
   "metadata": {
    "collapsed": false
   },
   "outputs": [
    {
     "name": "stdout",
     "output_type": "stream",
     "text": [
      "Exception reporting mode: Plain\n"
     ]
    }
   ],
   "source": [
    "%xmode Plain"
   ]
  },
  {
   "cell_type": "code",
   "execution_count": 4,
   "metadata": {
    "collapsed": false
   },
   "outputs": [
    {
     "ename": "ZeroDivisionError",
     "evalue": "division by zero",
     "output_type": "error",
     "traceback": [
      "Traceback \u001b[0;36m(most recent call last)\u001b[0m:\n",
      "  File \u001b[1;32m\"<ipython-input-4-b2e110f6fc8f>\"\u001b[0m, line \u001b[1;32m1\u001b[0m, in \u001b[1;35m<module>\u001b[0m\n    func2(1)\n",
      "  File \u001b[1;32m\"<ipython-input-1-d849e34d61fb>\"\u001b[0m, line \u001b[1;32m7\u001b[0m, in \u001b[1;35mfunc2\u001b[0m\n    return func1(a, b)\n",
      "\u001b[0;36m  File \u001b[0;32m\"<ipython-input-1-d849e34d61fb>\"\u001b[0;36m, line \u001b[0;32m2\u001b[0;36m, in \u001b[0;35mfunc1\u001b[0;36m\u001b[0m\n\u001b[0;31m    return a / b\u001b[0m\n",
      "\u001b[0;31mZeroDivisionError\u001b[0m\u001b[0;31m:\u001b[0m division by zero\n"
     ]
    }
   ],
   "source": [
    "func2(1)"
   ]
  },
  {
   "cell_type": "markdown",
   "metadata": {},
   "source": [
    "El modo Verbose añade alguna información adicional, incluidos los argumentos a las funciones que se llaman."
   ]
  },
  {
   "cell_type": "code",
   "execution_count": 5,
   "metadata": {
    "collapsed": false
   },
   "outputs": [
    {
     "name": "stdout",
     "output_type": "stream",
     "text": [
      "Exception reporting mode: Verbose\n"
     ]
    }
   ],
   "source": [
    "%xmode Verbose"
   ]
  },
  {
   "cell_type": "code",
   "execution_count": 6,
   "metadata": {
    "collapsed": false
   },
   "outputs": [
    {
     "ename": "ZeroDivisionError",
     "evalue": "division by zero",
     "output_type": "error",
     "traceback": [
      "\u001b[0;31m---------------------------------------------------------------------------\u001b[0m",
      "\u001b[0;31mZeroDivisionError\u001b[0m                         Traceback (most recent call last)",
      "\u001b[0;32m<ipython-input-6-b2e110f6fc8f>\u001b[0m in \u001b[0;36m<module>\u001b[0;34m()\u001b[0m\n\u001b[0;32m----> 1\u001b[0;31m \u001b[0mfunc2\u001b[0m\u001b[0;34m(\u001b[0m\u001b[0;36m1\u001b[0m\u001b[0;34m)\u001b[0m\u001b[0;34m\u001b[0m\u001b[0m\n\u001b[0m        \u001b[0;36mglobal\u001b[0m \u001b[0;36mfunc2\u001b[0m \u001b[0;34m= <function func2 at 0x7f606d1da488>\u001b[0m\n",
      "\u001b[0;32m<ipython-input-1-d849e34d61fb>\u001b[0m in \u001b[0;36mfunc2\u001b[0;34m(x=1)\u001b[0m\n\u001b[1;32m      5\u001b[0m     \u001b[0ma\u001b[0m \u001b[0;34m=\u001b[0m \u001b[0mx\u001b[0m\u001b[0;34m\u001b[0m\u001b[0m\n\u001b[1;32m      6\u001b[0m     \u001b[0mb\u001b[0m \u001b[0;34m=\u001b[0m \u001b[0mx\u001b[0m \u001b[0;34m-\u001b[0m \u001b[0;36m1\u001b[0m\u001b[0;34m\u001b[0m\u001b[0m\n\u001b[0;32m----> 7\u001b[0;31m     \u001b[0;32mreturn\u001b[0m \u001b[0mfunc1\u001b[0m\u001b[0;34m(\u001b[0m\u001b[0ma\u001b[0m\u001b[0;34m,\u001b[0m \u001b[0mb\u001b[0m\u001b[0;34m)\u001b[0m\u001b[0;34m\u001b[0m\u001b[0m\n\u001b[0m        \u001b[0;36mglobal\u001b[0m \u001b[0;36mfunc1\u001b[0m \u001b[0;34m= <function func1 at 0x7f606d1caf28>\u001b[0m\u001b[0;34m\n        \u001b[0m\u001b[0;36ma\u001b[0m \u001b[0;34m= 1\u001b[0m\u001b[0;34m\n        \u001b[0m\u001b[0;36mb\u001b[0m \u001b[0;34m= 0\u001b[0m\n",
      "\u001b[0;32m<ipython-input-1-d849e34d61fb>\u001b[0m in \u001b[0;36mfunc1\u001b[0;34m(a=1, b=0)\u001b[0m\n\u001b[1;32m      1\u001b[0m \u001b[0;32mdef\u001b[0m \u001b[0mfunc1\u001b[0m\u001b[0;34m(\u001b[0m\u001b[0ma\u001b[0m\u001b[0;34m,\u001b[0m \u001b[0mb\u001b[0m\u001b[0;34m)\u001b[0m\u001b[0;34m:\u001b[0m\u001b[0;34m\u001b[0m\u001b[0m\n\u001b[0;32m----> 2\u001b[0;31m     \u001b[0;32mreturn\u001b[0m \u001b[0ma\u001b[0m \u001b[0;34m/\u001b[0m \u001b[0mb\u001b[0m\u001b[0;34m\u001b[0m\u001b[0m\n\u001b[0m        \u001b[0;36ma\u001b[0m \u001b[0;34m= 1\u001b[0m\u001b[0;34m\n        \u001b[0m\u001b[0;36mb\u001b[0m \u001b[0;34m= 0\u001b[0m\n\u001b[1;32m      3\u001b[0m \u001b[0;34m\u001b[0m\u001b[0m\n\u001b[1;32m      4\u001b[0m \u001b[0;32mdef\u001b[0m \u001b[0mfunc2\u001b[0m\u001b[0;34m(\u001b[0m\u001b[0mx\u001b[0m\u001b[0;34m)\u001b[0m\u001b[0;34m:\u001b[0m\u001b[0;34m\u001b[0m\u001b[0m\n\u001b[1;32m      5\u001b[0m     \u001b[0ma\u001b[0m \u001b[0;34m=\u001b[0m \u001b[0mx\u001b[0m\u001b[0;34m\u001b[0m\u001b[0m\n",
      "\u001b[0;31mZeroDivisionError\u001b[0m: division by zero"
     ]
    }
   ],
   "source": [
    "func2(1)"
   ]
  },
  {
   "cell_type": "markdown",
   "metadata": {},
   "source": [
    "## Depuración en Ipython - Jupyter \n",
    "\n",
    "La herramienta Python estándar para la depuración interactiva es `` pdb``, el depurador de Python. Este depurador permite al usuario recorrer el código línea por línea para ver qué podría estar causando un error.\n",
    "\n",
    "La versión mejorada de IPython es `` ipdb``, el depurador de IPython. Hay muchas maneras de lanzar y utilizar ambos depuradores. En IPython, quizás la interfaz más conveniente para depurar sea el comando mágico ``% debug``. Si lo llama después de pulsar una excepción, abrirá automáticamente un indicador de depuración interactivo en el punto de la excepción. El indicador `` ipdb`` le permite explorar el estado actual de la pila, explorar las variables disponibles e incluso ejecutar comandos de Python. "
   ]
  },
  {
   "cell_type": "code",
   "execution_count": 7,
   "metadata": {
    "collapsed": false
   },
   "outputs": [
    {
     "name": "stdout",
     "output_type": "stream",
     "text": [
      "> \u001b[0;32m<ipython-input-1-d849e34d61fb>\u001b[0m(2)\u001b[0;36mfunc1\u001b[0;34m()\u001b[0m\n",
      "\u001b[0;32m      1 \u001b[0;31m\u001b[0;32mdef\u001b[0m \u001b[0mfunc1\u001b[0m\u001b[0;34m(\u001b[0m\u001b[0ma\u001b[0m\u001b[0;34m,\u001b[0m \u001b[0mb\u001b[0m\u001b[0;34m)\u001b[0m\u001b[0;34m:\u001b[0m\u001b[0;34m\u001b[0m\u001b[0m\n",
      "\u001b[0m\u001b[0;32m----> 2 \u001b[0;31m    \u001b[0;32mreturn\u001b[0m \u001b[0ma\u001b[0m \u001b[0;34m/\u001b[0m \u001b[0mb\u001b[0m\u001b[0;34m\u001b[0m\u001b[0m\n",
      "\u001b[0m\u001b[0;32m      3 \u001b[0;31m\u001b[0;34m\u001b[0m\u001b[0m\n",
      "\u001b[0m\u001b[0;32m      4 \u001b[0;31m\u001b[0;32mdef\u001b[0m \u001b[0mfunc2\u001b[0m\u001b[0;34m(\u001b[0m\u001b[0mx\u001b[0m\u001b[0;34m)\u001b[0m\u001b[0;34m:\u001b[0m\u001b[0;34m\u001b[0m\u001b[0m\n",
      "\u001b[0m\u001b[0;32m      5 \u001b[0;31m    \u001b[0ma\u001b[0m \u001b[0;34m=\u001b[0m \u001b[0mx\u001b[0m\u001b[0;34m\u001b[0m\u001b[0m\n",
      "\u001b[0m\n",
      "ipdb> print(a)\n",
      "1\n",
      "ipdb> print(b)\n",
      "0\n",
      "ipdb> quit\n"
     ]
    }
   ],
   "source": [
    "%debug"
   ]
  },
  {
   "cell_type": "markdown",
   "metadata": {},
   "source": [
    "El depurador interactivo permite mucho más que eso (imprimir valores), permite incluso  subir y bajar a través de la pila y explorar los valores de las variables allí"
   ]
  },
  {
   "cell_type": "code",
   "execution_count": 8,
   "metadata": {
    "collapsed": false
   },
   "outputs": [
    {
     "name": "stdout",
     "output_type": "stream",
     "text": [
      "> \u001b[0;32m<ipython-input-1-d849e34d61fb>\u001b[0m(2)\u001b[0;36mfunc1\u001b[0;34m()\u001b[0m\n",
      "\u001b[0;32m      1 \u001b[0;31m\u001b[0;32mdef\u001b[0m \u001b[0mfunc1\u001b[0m\u001b[0;34m(\u001b[0m\u001b[0ma\u001b[0m\u001b[0;34m,\u001b[0m \u001b[0mb\u001b[0m\u001b[0;34m)\u001b[0m\u001b[0;34m:\u001b[0m\u001b[0;34m\u001b[0m\u001b[0m\n",
      "\u001b[0m\u001b[0;32m----> 2 \u001b[0;31m    \u001b[0;32mreturn\u001b[0m \u001b[0ma\u001b[0m \u001b[0;34m/\u001b[0m \u001b[0mb\u001b[0m\u001b[0;34m\u001b[0m\u001b[0m\n",
      "\u001b[0m\u001b[0;32m      3 \u001b[0;31m\u001b[0;34m\u001b[0m\u001b[0m\n",
      "\u001b[0m\u001b[0;32m      4 \u001b[0;31m\u001b[0;32mdef\u001b[0m \u001b[0mfunc2\u001b[0m\u001b[0;34m(\u001b[0m\u001b[0mx\u001b[0m\u001b[0;34m)\u001b[0m\u001b[0;34m:\u001b[0m\u001b[0;34m\u001b[0m\u001b[0m\n",
      "\u001b[0m\u001b[0;32m      5 \u001b[0;31m    \u001b[0ma\u001b[0m \u001b[0;34m=\u001b[0m \u001b[0mx\u001b[0m\u001b[0;34m\u001b[0m\u001b[0m\n",
      "\u001b[0m\n",
      "ipdb> up\n",
      "> \u001b[0;32m<ipython-input-1-d849e34d61fb>\u001b[0m(7)\u001b[0;36mfunc2\u001b[0;34m()\u001b[0m\n",
      "\u001b[0;32m      3 \u001b[0;31m\u001b[0;34m\u001b[0m\u001b[0m\n",
      "\u001b[0m\u001b[0;32m      4 \u001b[0;31m\u001b[0;32mdef\u001b[0m \u001b[0mfunc2\u001b[0m\u001b[0;34m(\u001b[0m\u001b[0mx\u001b[0m\u001b[0;34m)\u001b[0m\u001b[0;34m:\u001b[0m\u001b[0;34m\u001b[0m\u001b[0m\n",
      "\u001b[0m\u001b[0;32m      5 \u001b[0;31m    \u001b[0ma\u001b[0m \u001b[0;34m=\u001b[0m \u001b[0mx\u001b[0m\u001b[0;34m\u001b[0m\u001b[0m\n",
      "\u001b[0m\u001b[0;32m      6 \u001b[0;31m    \u001b[0mb\u001b[0m \u001b[0;34m=\u001b[0m \u001b[0mx\u001b[0m \u001b[0;34m-\u001b[0m \u001b[0;36m1\u001b[0m\u001b[0;34m\u001b[0m\u001b[0m\n",
      "\u001b[0m\u001b[0;32m----> 7 \u001b[0;31m    \u001b[0;32mreturn\u001b[0m \u001b[0mfunc1\u001b[0m\u001b[0;34m(\u001b[0m\u001b[0ma\u001b[0m\u001b[0;34m,\u001b[0m \u001b[0mb\u001b[0m\u001b[0;34m)\u001b[0m\u001b[0;34m\u001b[0m\u001b[0m\n",
      "\u001b[0m\n",
      "ipdb> print(x)\n",
      "1\n",
      "ipdb> up\n",
      "> \u001b[0;32m<ipython-input-6-b2e110f6fc8f>\u001b[0m(1)\u001b[0;36m<module>\u001b[0;34m()\u001b[0m\n",
      "\u001b[0;32m----> 1 \u001b[0;31m\u001b[0mfunc2\u001b[0m\u001b[0;34m(\u001b[0m\u001b[0;36m1\u001b[0m\u001b[0;34m)\u001b[0m\u001b[0;34m\u001b[0m\u001b[0m\n",
      "\u001b[0m\n",
      "ipdb> down\n",
      "> \u001b[0;32m<ipython-input-1-d849e34d61fb>\u001b[0m(7)\u001b[0;36mfunc2\u001b[0;34m()\u001b[0m\n",
      "\u001b[0;32m      3 \u001b[0;31m\u001b[0;34m\u001b[0m\u001b[0m\n",
      "\u001b[0m\u001b[0;32m      4 \u001b[0;31m\u001b[0;32mdef\u001b[0m \u001b[0mfunc2\u001b[0m\u001b[0;34m(\u001b[0m\u001b[0mx\u001b[0m\u001b[0;34m)\u001b[0m\u001b[0;34m:\u001b[0m\u001b[0;34m\u001b[0m\u001b[0m\n",
      "\u001b[0m\u001b[0;32m      5 \u001b[0;31m    \u001b[0ma\u001b[0m \u001b[0;34m=\u001b[0m \u001b[0mx\u001b[0m\u001b[0;34m\u001b[0m\u001b[0m\n",
      "\u001b[0m\u001b[0;32m      6 \u001b[0;31m    \u001b[0mb\u001b[0m \u001b[0;34m=\u001b[0m \u001b[0mx\u001b[0m \u001b[0;34m-\u001b[0m \u001b[0;36m1\u001b[0m\u001b[0;34m\u001b[0m\u001b[0m\n",
      "\u001b[0m\u001b[0;32m----> 7 \u001b[0;31m    \u001b[0;32mreturn\u001b[0m \u001b[0mfunc1\u001b[0m\u001b[0;34m(\u001b[0m\u001b[0ma\u001b[0m\u001b[0;34m,\u001b[0m \u001b[0mb\u001b[0m\u001b[0;34m)\u001b[0m\u001b[0;34m\u001b[0m\u001b[0m\n",
      "\u001b[0m\n",
      "ipdb> quit\n"
     ]
    }
   ],
   "source": [
    "%debug"
   ]
  },
  {
   "cell_type": "markdown",
   "metadata": {},
   "source": [
    "Esto  permite averiguar rápidamente no sólo lo que causó el error, sino las llamadas de función que condujeron  hasta el error. Si deseamos  que el depurador se inicie automáticamente cada vez que se genera una excepción, podemos  utilizar la función mágica `% pdb`  para activar este comportamiento automático"
   ]
  },
  {
   "cell_type": "code",
   "execution_count": 9,
   "metadata": {
    "collapsed": false
   },
   "outputs": [
    {
     "name": "stdout",
     "output_type": "stream",
     "text": [
      "Exception reporting mode: Plain\n",
      "Automatic pdb calling has been turned ON\n"
     ]
    },
    {
     "ename": "ZeroDivisionError",
     "evalue": "division by zero",
     "output_type": "error",
     "traceback": [
      "Traceback \u001b[0;36m(most recent call last)\u001b[0m:\n",
      "  File \u001b[1;32m\"<ipython-input-9-569a67d2d312>\"\u001b[0m, line \u001b[1;32m3\u001b[0m, in \u001b[1;35m<module>\u001b[0m\n    func2(1)\n",
      "  File \u001b[1;32m\"<ipython-input-1-d849e34d61fb>\"\u001b[0m, line \u001b[1;32m7\u001b[0m, in \u001b[1;35mfunc2\u001b[0m\n    return func1(a, b)\n",
      "\u001b[0;36m  File \u001b[0;32m\"<ipython-input-1-d849e34d61fb>\"\u001b[0;36m, line \u001b[0;32m2\u001b[0;36m, in \u001b[0;35mfunc1\u001b[0;36m\u001b[0m\n\u001b[0;31m    return a / b\u001b[0m\n",
      "\u001b[0;31mZeroDivisionError\u001b[0m\u001b[0;31m:\u001b[0m division by zero\n"
     ]
    },
    {
     "name": "stdout",
     "output_type": "stream",
     "text": [
      "> \u001b[0;32m<ipython-input-1-d849e34d61fb>\u001b[0m(2)\u001b[0;36mfunc1\u001b[0;34m()\u001b[0m\n",
      "\u001b[0;32m      1 \u001b[0;31m\u001b[0;32mdef\u001b[0m \u001b[0mfunc1\u001b[0m\u001b[0;34m(\u001b[0m\u001b[0ma\u001b[0m\u001b[0;34m,\u001b[0m \u001b[0mb\u001b[0m\u001b[0;34m)\u001b[0m\u001b[0;34m:\u001b[0m\u001b[0;34m\u001b[0m\u001b[0m\n",
      "\u001b[0m\u001b[0;32m----> 2 \u001b[0;31m    \u001b[0;32mreturn\u001b[0m \u001b[0ma\u001b[0m \u001b[0;34m/\u001b[0m \u001b[0mb\u001b[0m\u001b[0;34m\u001b[0m\u001b[0m\n",
      "\u001b[0m\u001b[0;32m      3 \u001b[0;31m\u001b[0;34m\u001b[0m\u001b[0m\n",
      "\u001b[0m\u001b[0;32m      4 \u001b[0;31m\u001b[0;32mdef\u001b[0m \u001b[0mfunc2\u001b[0m\u001b[0;34m(\u001b[0m\u001b[0mx\u001b[0m\u001b[0;34m)\u001b[0m\u001b[0;34m:\u001b[0m\u001b[0;34m\u001b[0m\u001b[0m\n",
      "\u001b[0m\u001b[0;32m      5 \u001b[0;31m    \u001b[0ma\u001b[0m \u001b[0;34m=\u001b[0m \u001b[0mx\u001b[0m\u001b[0;34m\u001b[0m\u001b[0m\n",
      "\u001b[0m\n",
      "ipdb> print(b)\n",
      "0\n",
      "ipdb> quit\n"
     ]
    }
   ],
   "source": [
    "%xmode Plain\n",
    "%pdb on\n",
    "func2(1)"
   ]
  },
  {
   "cell_type": "markdown",
   "metadata": {},
   "source": [
    "Por último, si se tiene una secuencia de comandos que se  desea ejecutar desde el principio en modo interactivo, puede ejecutarse  con el comando `% run -d` y utilizar el siguiente comando para recorrer interactivamente las líneas de código.\n",
    "\n",
    "| Comando         |                    Descripcion                                             |\n",
    "|-----------------|----------------------------------------------------------------------------|\n",
    "| ``list``        | Muestra la ubicación actual en el archivo                                  |\n",
    "| ``h(elp)``      | Muestra una lista de comandos o encuentra ayuda de   un comando específico |\n",
    "| ``q(uit)``      | Quitamos el depurador y el programa                                        |\n",
    "| ``c(ontinue)``  | Sale del depurador,  y continua  en el programa                            |\n",
    "| ``n(ext)``      | Ir al siguiente paso del programa                                          |\n",
    "| ``<enter>``     | Repite os comandos previos                                                 |\n",
    "| ``p(rint)``     | Imprime  variables                                                         |\n",
    "| ``s(tep)``      | Entra  en una subrutina                                                    |\n",
    "| ``r(eturn)``    | Retorno de una subrutina                                                   |"
   ]
  },
  {
   "cell_type": "markdown",
   "metadata": {
    "deletable": true,
    "editable": true
   },
   "source": [
    "## Lecturas\n",
    "\n",
    "* [The Unix Shell](http://swcarpentry.github.io/shell-novice/).\n",
    "* [Online documentation ipdb](https://github.com/gotcha/ipdb).\n",
    "* [Ipython interactive computing](http://nbviewer.jupyter.org/github/ipython/ipython/blob/4.0.x/examples/IPython%20Kernel/Index.ipynb).\n",
    "* [A gallery of interesting Jupyter Notebooks](https://github.com/jupyter/jupyter/wiki/A-gallery-of-interesting-Jupyter-Notebooks).\n",
    "* Mastering IPython 4.0, Thomas Bitterman Packt Publishing 2016.\n",
    "* Python Data Science Handbook: Essential Tools for Working with Data, Jake VanderPlas O'Reilly Media 2016."
   ]
  },
  {
   "cell_type": "code",
   "execution_count": null,
   "metadata": {
    "collapsed": true
   },
   "outputs": [],
   "source": []
  }
 ],
 "metadata": {
  "kernelspec": {
   "display_name": "Python 3",
   "language": "python",
   "name": "python3"
  },
  "language_info": {
   "codemirror_mode": {
    "name": "ipython",
    "version": 3
   },
   "file_extension": ".py",
   "mimetype": "text/x-python",
   "name": "python",
   "nbconvert_exporter": "python",
   "pygments_lexer": "ipython3",
   "version": "3.5.2"
  }
 },
 "nbformat": 4,
 "nbformat_minor": 1
}
