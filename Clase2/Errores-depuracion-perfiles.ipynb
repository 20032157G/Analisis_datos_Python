{
 "cells": [
  {
   "cell_type": "markdown",
   "metadata": {
    "deletable": true,
    "editable": true
   },
   "source": [
    "## Errores y depuración \n",
    "\n",
    "El desarrollo de código y el análisis de datos siempre requieren un poco de prueba y error y  IPython-Jupyter  contiene herramientas para agilizar este proceso. Brevemente mencionaremos  opciones para controlar el informe de excepciones de Python, seguido por la exploración de herramientas para depurar errores en el código.\n",
    "\n",
    "### Controlando excepciones %xmode\n",
    "\n",
    "La mayor parte del tiempo cuando un script de Python falla, generar  una `excepción`. Cuando el intérprete realiza una de estas excepciones, la información sobre la causa del error se puede encontrar en el rastreo, al que se puede acceder desde  Python. Con la función mágica `% xmode` , IPython  permite controlar la cantidad de información impresa cuando se genera la excepción. Veamos algunos ejemplos:"
   ]
  },
  {
   "cell_type": "code",
   "execution_count": 1,
   "metadata": {
    "collapsed": true,
    "deletable": true,
    "editable": true
   },
   "outputs": [],
   "source": [
    "def func1(a, b):\n",
    "    return a / b\n",
    "\n",
    "def func2(x):\n",
    "    a = x\n",
    "    b = x - 1\n",
    "    return func1(a, b)"
   ]
  },
  {
   "cell_type": "code",
   "execution_count": 2,
   "metadata": {
    "collapsed": false,
    "deletable": true,
    "editable": true
   },
   "outputs": [
    {
     "ename": "ZeroDivisionError",
     "evalue": "division by zero",
     "output_type": "error",
     "traceback": [
      "\u001b[0;31m---------------------------------------------------------------------------\u001b[0m",
      "\u001b[0;31mZeroDivisionError\u001b[0m                         Traceback (most recent call last)",
      "\u001b[0;32m<ipython-input-2-b2e110f6fc8f>\u001b[0m in \u001b[0;36m<module>\u001b[0;34m()\u001b[0m\n\u001b[0;32m----> 1\u001b[0;31m \u001b[0mfunc2\u001b[0m\u001b[0;34m(\u001b[0m\u001b[0;36m1\u001b[0m\u001b[0;34m)\u001b[0m\u001b[0;34m\u001b[0m\u001b[0m\n\u001b[0m",
      "\u001b[0;32m<ipython-input-1-d849e34d61fb>\u001b[0m in \u001b[0;36mfunc2\u001b[0;34m(x)\u001b[0m\n\u001b[1;32m      5\u001b[0m     \u001b[0ma\u001b[0m \u001b[0;34m=\u001b[0m \u001b[0mx\u001b[0m\u001b[0;34m\u001b[0m\u001b[0m\n\u001b[1;32m      6\u001b[0m     \u001b[0mb\u001b[0m \u001b[0;34m=\u001b[0m \u001b[0mx\u001b[0m \u001b[0;34m-\u001b[0m \u001b[0;36m1\u001b[0m\u001b[0;34m\u001b[0m\u001b[0m\n\u001b[0;32m----> 7\u001b[0;31m     \u001b[0;32mreturn\u001b[0m \u001b[0mfunc1\u001b[0m\u001b[0;34m(\u001b[0m\u001b[0ma\u001b[0m\u001b[0;34m,\u001b[0m \u001b[0mb\u001b[0m\u001b[0;34m)\u001b[0m\u001b[0;34m\u001b[0m\u001b[0m\n\u001b[0m",
      "\u001b[0;32m<ipython-input-1-d849e34d61fb>\u001b[0m in \u001b[0;36mfunc1\u001b[0;34m(a, b)\u001b[0m\n\u001b[1;32m      1\u001b[0m \u001b[0;32mdef\u001b[0m \u001b[0mfunc1\u001b[0m\u001b[0;34m(\u001b[0m\u001b[0ma\u001b[0m\u001b[0;34m,\u001b[0m \u001b[0mb\u001b[0m\u001b[0;34m)\u001b[0m\u001b[0;34m:\u001b[0m\u001b[0;34m\u001b[0m\u001b[0m\n\u001b[0;32m----> 2\u001b[0;31m     \u001b[0;32mreturn\u001b[0m \u001b[0ma\u001b[0m \u001b[0;34m/\u001b[0m \u001b[0mb\u001b[0m\u001b[0;34m\u001b[0m\u001b[0m\n\u001b[0m\u001b[1;32m      3\u001b[0m \u001b[0;34m\u001b[0m\u001b[0m\n\u001b[1;32m      4\u001b[0m \u001b[0;32mdef\u001b[0m \u001b[0mfunc2\u001b[0m\u001b[0;34m(\u001b[0m\u001b[0mx\u001b[0m\u001b[0;34m)\u001b[0m\u001b[0;34m:\u001b[0m\u001b[0;34m\u001b[0m\u001b[0m\n\u001b[1;32m      5\u001b[0m     \u001b[0ma\u001b[0m \u001b[0;34m=\u001b[0m \u001b[0mx\u001b[0m\u001b[0;34m\u001b[0m\u001b[0m\n",
      "\u001b[0;31mZeroDivisionError\u001b[0m: division by zero"
     ]
    }
   ],
   "source": [
    "func2(1)"
   ]
  },
  {
   "cell_type": "markdown",
   "metadata": {
    "deletable": true,
    "editable": true
   },
   "source": [
    "Llamar a la función `func2` produce un error y leer el trazado impreso nos permite ver exactamente lo que sucedr. De forma predeterminada, esta traza incluye varias líneas que muestran el contexto de cada paso que provocó el error. Utilizando la función mágica `% xmode` (abreviatura para el modo Exception) podemos cambiar la información que se imprime.\n",
    "\n",
    "`% xmode` toma un solo argumento, el modo  y hay tres posibilidades: `Plain, Context` y `Verbose`. El valor predeterminado es `Context`  y da salida como la que se muestra anteriormente. `Plain` es más compacto y da menos información."
   ]
  },
  {
   "cell_type": "code",
   "execution_count": 3,
   "metadata": {
    "collapsed": false,
    "deletable": true,
    "editable": true
   },
   "outputs": [
    {
     "name": "stdout",
     "output_type": "stream",
     "text": [
      "Exception reporting mode: Plain\n"
     ]
    }
   ],
   "source": [
    "%xmode Plain"
   ]
  },
  {
   "cell_type": "code",
   "execution_count": 4,
   "metadata": {
    "collapsed": false,
    "deletable": true,
    "editable": true
   },
   "outputs": [
    {
     "ename": "ZeroDivisionError",
     "evalue": "division by zero",
     "output_type": "error",
     "traceback": [
      "Traceback \u001b[0;36m(most recent call last)\u001b[0m:\n",
      "  File \u001b[1;32m\"<ipython-input-4-b2e110f6fc8f>\"\u001b[0m, line \u001b[1;32m1\u001b[0m, in \u001b[1;35m<module>\u001b[0m\n    func2(1)\n",
      "  File \u001b[1;32m\"<ipython-input-1-d849e34d61fb>\"\u001b[0m, line \u001b[1;32m7\u001b[0m, in \u001b[1;35mfunc2\u001b[0m\n    return func1(a, b)\n",
      "\u001b[0;36m  File \u001b[0;32m\"<ipython-input-1-d849e34d61fb>\"\u001b[0;36m, line \u001b[0;32m2\u001b[0;36m, in \u001b[0;35mfunc1\u001b[0;36m\u001b[0m\n\u001b[0;31m    return a / b\u001b[0m\n",
      "\u001b[0;31mZeroDivisionError\u001b[0m\u001b[0;31m:\u001b[0m division by zero\n"
     ]
    }
   ],
   "source": [
    "func2(1)"
   ]
  },
  {
   "cell_type": "markdown",
   "metadata": {
    "deletable": true,
    "editable": true
   },
   "source": [
    "El modo `Verbose` añade alguna información adicional, incluidos los argumentos a las funciones que se llaman."
   ]
  },
  {
   "cell_type": "code",
   "execution_count": 5,
   "metadata": {
    "collapsed": false,
    "deletable": true,
    "editable": true
   },
   "outputs": [
    {
     "name": "stdout",
     "output_type": "stream",
     "text": [
      "Exception reporting mode: Verbose\n"
     ]
    }
   ],
   "source": [
    "%xmode Verbose"
   ]
  },
  {
   "cell_type": "code",
   "execution_count": 6,
   "metadata": {
    "collapsed": false,
    "deletable": true,
    "editable": true
   },
   "outputs": [
    {
     "ename": "ZeroDivisionError",
     "evalue": "division by zero",
     "output_type": "error",
     "traceback": [
      "\u001b[0;31m---------------------------------------------------------------------------\u001b[0m",
      "\u001b[0;31mZeroDivisionError\u001b[0m                         Traceback (most recent call last)",
      "\u001b[0;32m<ipython-input-6-b2e110f6fc8f>\u001b[0m in \u001b[0;36m<module>\u001b[0;34m()\u001b[0m\n\u001b[0;32m----> 1\u001b[0;31m \u001b[0mfunc2\u001b[0m\u001b[0;34m(\u001b[0m\u001b[0;36m1\u001b[0m\u001b[0;34m)\u001b[0m\u001b[0;34m\u001b[0m\u001b[0m\n\u001b[0m        \u001b[0;36mglobal\u001b[0m \u001b[0;36mfunc2\u001b[0m \u001b[0;34m= <function func2 at 0x7f45483ec7b8>\u001b[0m\n",
      "\u001b[0;32m<ipython-input-1-d849e34d61fb>\u001b[0m in \u001b[0;36mfunc2\u001b[0;34m(x=1)\u001b[0m\n\u001b[1;32m      5\u001b[0m     \u001b[0ma\u001b[0m \u001b[0;34m=\u001b[0m \u001b[0mx\u001b[0m\u001b[0;34m\u001b[0m\u001b[0m\n\u001b[1;32m      6\u001b[0m     \u001b[0mb\u001b[0m \u001b[0;34m=\u001b[0m \u001b[0mx\u001b[0m \u001b[0;34m-\u001b[0m \u001b[0;36m1\u001b[0m\u001b[0;34m\u001b[0m\u001b[0m\n\u001b[0;32m----> 7\u001b[0;31m     \u001b[0;32mreturn\u001b[0m \u001b[0mfunc1\u001b[0m\u001b[0;34m(\u001b[0m\u001b[0ma\u001b[0m\u001b[0;34m,\u001b[0m \u001b[0mb\u001b[0m\u001b[0;34m)\u001b[0m\u001b[0;34m\u001b[0m\u001b[0m\n\u001b[0m        \u001b[0;36mglobal\u001b[0m \u001b[0;36mfunc1\u001b[0m \u001b[0;34m= <function func1 at 0x7f454f871378>\u001b[0m\u001b[0;34m\n        \u001b[0m\u001b[0;36ma\u001b[0m \u001b[0;34m= 1\u001b[0m\u001b[0;34m\n        \u001b[0m\u001b[0;36mb\u001b[0m \u001b[0;34m= 0\u001b[0m\n",
      "\u001b[0;32m<ipython-input-1-d849e34d61fb>\u001b[0m in \u001b[0;36mfunc1\u001b[0;34m(a=1, b=0)\u001b[0m\n\u001b[1;32m      1\u001b[0m \u001b[0;32mdef\u001b[0m \u001b[0mfunc1\u001b[0m\u001b[0;34m(\u001b[0m\u001b[0ma\u001b[0m\u001b[0;34m,\u001b[0m \u001b[0mb\u001b[0m\u001b[0;34m)\u001b[0m\u001b[0;34m:\u001b[0m\u001b[0;34m\u001b[0m\u001b[0m\n\u001b[0;32m----> 2\u001b[0;31m     \u001b[0;32mreturn\u001b[0m \u001b[0ma\u001b[0m \u001b[0;34m/\u001b[0m \u001b[0mb\u001b[0m\u001b[0;34m\u001b[0m\u001b[0m\n\u001b[0m        \u001b[0;36ma\u001b[0m \u001b[0;34m= 1\u001b[0m\u001b[0;34m\n        \u001b[0m\u001b[0;36mb\u001b[0m \u001b[0;34m= 0\u001b[0m\n\u001b[1;32m      3\u001b[0m \u001b[0;34m\u001b[0m\u001b[0m\n\u001b[1;32m      4\u001b[0m \u001b[0;32mdef\u001b[0m \u001b[0mfunc2\u001b[0m\u001b[0;34m(\u001b[0m\u001b[0mx\u001b[0m\u001b[0;34m)\u001b[0m\u001b[0;34m:\u001b[0m\u001b[0;34m\u001b[0m\u001b[0m\n\u001b[1;32m      5\u001b[0m     \u001b[0ma\u001b[0m \u001b[0;34m=\u001b[0m \u001b[0mx\u001b[0m\u001b[0;34m\u001b[0m\u001b[0m\n",
      "\u001b[0;31mZeroDivisionError\u001b[0m: division by zero"
     ]
    }
   ],
   "source": [
    "func2(1)"
   ]
  },
  {
   "cell_type": "markdown",
   "metadata": {
    "deletable": true,
    "editable": true
   },
   "source": [
    "## Depuración en Ipython - Jupyter \n",
    "\n",
    "La herramienta Python estándar para la depuración interactiva es `` pdb``, el depurador de Python. Este depurador permite al usuario recorrer el código línea por línea para ver qué podría estar causando un error.\n",
    "\n",
    "La versión mejorada de IPython es `` ipdb``, el depurador de IPython. Hay muchas maneras de lanzar y utilizar ambos depuradores. En IPython, quizás la interfaz más conveniente para depurar sea el comando mágico ``% debug``. Si lo llama después de pulsar una excepción, abrirá automáticamente un indicador de depuración interactivo en el punto de la excepción. El indicador `` ipdb`` le permite explorar el estado actual de la pila, explorar las variables disponibles e incluso ejecutar comandos de Python. "
   ]
  },
  {
   "cell_type": "code",
   "execution_count": 7,
   "metadata": {
    "collapsed": false,
    "deletable": true,
    "editable": true
   },
   "outputs": [
    {
     "name": "stdout",
     "output_type": "stream",
     "text": [
      "> \u001b[0;32m<ipython-input-1-d849e34d61fb>\u001b[0m(2)\u001b[0;36mfunc1\u001b[0;34m()\u001b[0m\n",
      "\u001b[0;32m      1 \u001b[0;31m\u001b[0;32mdef\u001b[0m \u001b[0mfunc1\u001b[0m\u001b[0;34m(\u001b[0m\u001b[0ma\u001b[0m\u001b[0;34m,\u001b[0m \u001b[0mb\u001b[0m\u001b[0;34m)\u001b[0m\u001b[0;34m:\u001b[0m\u001b[0;34m\u001b[0m\u001b[0m\n",
      "\u001b[0m\u001b[0;32m----> 2 \u001b[0;31m    \u001b[0;32mreturn\u001b[0m \u001b[0ma\u001b[0m \u001b[0;34m/\u001b[0m \u001b[0mb\u001b[0m\u001b[0;34m\u001b[0m\u001b[0m\n",
      "\u001b[0m\u001b[0;32m      3 \u001b[0;31m\u001b[0;34m\u001b[0m\u001b[0m\n",
      "\u001b[0m\u001b[0;32m      4 \u001b[0;31m\u001b[0;32mdef\u001b[0m \u001b[0mfunc2\u001b[0m\u001b[0;34m(\u001b[0m\u001b[0mx\u001b[0m\u001b[0;34m)\u001b[0m\u001b[0;34m:\u001b[0m\u001b[0;34m\u001b[0m\u001b[0m\n",
      "\u001b[0m\u001b[0;32m      5 \u001b[0;31m    \u001b[0ma\u001b[0m \u001b[0;34m=\u001b[0m \u001b[0mx\u001b[0m\u001b[0;34m\u001b[0m\u001b[0m\n",
      "\u001b[0m\n",
      "ipdb> print(a)\n",
      "1\n",
      "ipdb> print(b)\n",
      "0\n",
      "ipdb> quit\n"
     ]
    }
   ],
   "source": [
    "%debug"
   ]
  },
  {
   "cell_type": "markdown",
   "metadata": {
    "deletable": true,
    "editable": true
   },
   "source": [
    "Esto  permite averiguar rápidamente no sólo lo que causó el error, sino las llamadas de función que condujeron  hasta el error. Si deseamos  que el depurador se inicie automáticamente cada vez que se genera una excepción, podemos  utilizar la función mágica `% pdb`  para activar este comportamiento automático."
   ]
  },
  {
   "cell_type": "code",
   "execution_count": 8,
   "metadata": {
    "collapsed": false,
    "deletable": true,
    "editable": true
   },
   "outputs": [
    {
     "name": "stdout",
     "output_type": "stream",
     "text": [
      "Exception reporting mode: Plain\n",
      "Automatic pdb calling has been turned ON\n"
     ]
    },
    {
     "ename": "ZeroDivisionError",
     "evalue": "division by zero",
     "output_type": "error",
     "traceback": [
      "Traceback \u001b[0;36m(most recent call last)\u001b[0m:\n",
      "  File \u001b[1;32m\"<ipython-input-8-569a67d2d312>\"\u001b[0m, line \u001b[1;32m3\u001b[0m, in \u001b[1;35m<module>\u001b[0m\n    func2(1)\n",
      "  File \u001b[1;32m\"<ipython-input-1-d849e34d61fb>\"\u001b[0m, line \u001b[1;32m7\u001b[0m, in \u001b[1;35mfunc2\u001b[0m\n    return func1(a, b)\n",
      "\u001b[0;36m  File \u001b[0;32m\"<ipython-input-1-d849e34d61fb>\"\u001b[0;36m, line \u001b[0;32m2\u001b[0;36m, in \u001b[0;35mfunc1\u001b[0;36m\u001b[0m\n\u001b[0;31m    return a / b\u001b[0m\n",
      "\u001b[0;31mZeroDivisionError\u001b[0m\u001b[0;31m:\u001b[0m division by zero\n"
     ]
    },
    {
     "name": "stdout",
     "output_type": "stream",
     "text": [
      "> \u001b[0;32m<ipython-input-1-d849e34d61fb>\u001b[0m(2)\u001b[0;36mfunc1\u001b[0;34m()\u001b[0m\n",
      "\u001b[0;32m      1 \u001b[0;31m\u001b[0;32mdef\u001b[0m \u001b[0mfunc1\u001b[0m\u001b[0;34m(\u001b[0m\u001b[0ma\u001b[0m\u001b[0;34m,\u001b[0m \u001b[0mb\u001b[0m\u001b[0;34m)\u001b[0m\u001b[0;34m:\u001b[0m\u001b[0;34m\u001b[0m\u001b[0m\n",
      "\u001b[0m\u001b[0;32m----> 2 \u001b[0;31m    \u001b[0;32mreturn\u001b[0m \u001b[0ma\u001b[0m \u001b[0;34m/\u001b[0m \u001b[0mb\u001b[0m\u001b[0;34m\u001b[0m\u001b[0m\n",
      "\u001b[0m\u001b[0;32m      3 \u001b[0;31m\u001b[0;34m\u001b[0m\u001b[0m\n",
      "\u001b[0m\u001b[0;32m      4 \u001b[0;31m\u001b[0;32mdef\u001b[0m \u001b[0mfunc2\u001b[0m\u001b[0;34m(\u001b[0m\u001b[0mx\u001b[0m\u001b[0;34m)\u001b[0m\u001b[0;34m:\u001b[0m\u001b[0;34m\u001b[0m\u001b[0m\n",
      "\u001b[0m\u001b[0;32m      5 \u001b[0;31m    \u001b[0ma\u001b[0m \u001b[0;34m=\u001b[0m \u001b[0mx\u001b[0m\u001b[0;34m\u001b[0m\u001b[0m\n",
      "\u001b[0m\n",
      "ipdb> print(a)\n",
      "1\n",
      "ipdb> quit\n"
     ]
    }
   ],
   "source": [
    "%xmode Plain\n",
    "%pdb on\n",
    "func2(1)"
   ]
  },
  {
   "cell_type": "markdown",
   "metadata": {
    "deletable": true,
    "editable": true
   },
   "source": [
    "Por último, si se tiene una secuencia de comandos que se  desea ejecutar desde el principio en modo interactivo, puede ejecutarse  con el comando `% run -d` y utilizar el siguiente comando para recorrer interactivamente las líneas de código.\n",
    "\n",
    "Hay muchos más comandos disponibles para la depuración interactiva. La siguiente tabla contiene una descripción de alguno de los más comunes y útiles:\n",
    "\n",
    "| Comando         |                    Descripcion                                             |\n",
    "|-----------------|----------------------------------------------------------------------------|\n",
    "| ``list``        | Muestra la ubicación actual en el archivo                                  |\n",
    "| ``h(elp)``      | Muestra una lista de comandos o encuentra ayuda de   un comando específico |\n",
    "| ``q(uit)``      | Quitamos el depurador y el programa                                        |\n",
    "| ``c(ontinue)``  | Sale del depurador,  y continua  en el programa                            |\n",
    "| ``n(ext)``      | Ir al siguiente paso del programa                                          |\n",
    "| ``<enter>``     | Repite os comandos previos                                                 |\n",
    "| ``p(rint)``     | Imprime  variables                                                         |\n",
    "| ``s(tep)``      | Entra  en una subrutina                                                    |\n",
    "| ``r(eturn)``    | Retorno de una subrutina                                                   |"
   ]
  },
  {
   "cell_type": "markdown",
   "metadata": {
    "deletable": true,
    "editable": true
   },
   "source": [
    "## Perfiles y tiempo de ejecución\n",
    "\n",
    "Cuando tenemos código que funciona, puede ser útil  verificar y profundizar en la eficiencia . A veces es útil comprobar el tiempo de ejecución de un comando dado o conjunto de comandos o  verificar  un proceso multilínea y determinar dónde se encuentra  el cuello de botella de alguna complicada serie de operaciones. IPython proporciona acceso a una amplia gama de funcionalidades para este tipo de sincronización y creación de perfiles de código. Veamos algunas:\n",
    "\n",
    "* `%time`: Tiempo de ejecución de una sola instrucción.\n",
    "\n",
    "* `%timeit`: Tiempo de ejecución repetida de una única sentencia para mayor precisión.\n",
    "\n",
    "* `%prun`: Ejecuta el código con el generador de perfiles.\n",
    "\n",
    "* `%lprun`: Ejecuta código con el generador de línea por línea.\n",
    "\n",
    "* `%memit`: Mide el uso de memoria de una sola sentencia.\n",
    "\n",
    "*  `%mprun`: Ejecuta el código con el generador de perfiles de memoria línea por línea."
   ]
  },
  {
   "cell_type": "markdown",
   "metadata": {
    "deletable": true,
    "editable": true
   },
   "source": [
    "### %timeit y %time \n",
    "\n",
    "Estos comandos mágicos, se pueden  utilizar para el tiempo de ejecución repetida de fragmentos de código:"
   ]
  },
  {
   "cell_type": "code",
   "execution_count": 9,
   "metadata": {
    "collapsed": false,
    "deletable": true,
    "editable": true
   },
   "outputs": [
    {
     "name": "stdout",
     "output_type": "stream",
     "text": [
      "10000 loops, best of 3: 36.7 µs per loop\n"
     ]
    }
   ],
   "source": [
    "%timeit sum(range(1000))"
   ]
  },
  {
   "cell_type": "markdown",
   "metadata": {
    "deletable": true,
    "editable": true
   },
   "source": [
    "Ten en cuenta que debido a esta operación es muy rápida, %timeit hace automáticamente un gran número de repeticiones. Para comandos más lentos, % timeit se ajustará automáticamente y realizará menos repeticiones:"
   ]
  },
  {
   "cell_type": "code",
   "execution_count": 10,
   "metadata": {
    "collapsed": false,
    "deletable": true,
    "editable": true
   },
   "outputs": [
    {
     "name": "stdout",
     "output_type": "stream",
     "text": [
      "1 loop, best of 3: 711 ms per loop\n"
     ]
    }
   ],
   "source": [
    "%%timeit\n",
    "total = 0\n",
    "for i in range(1000):\n",
    "    for j in range(1000):\n",
    "        total += i * (-1) ** j"
   ]
  },
  {
   "cell_type": "markdown",
   "metadata": {
    "deletable": true,
    "editable": true
   },
   "source": [
    "A veces repetir una operación no es la mejor opción. Por ejemplo, si tenemos una lista que  queremos ordenar, podríamos ser engañados por una operación repetida. Ordenar una lista pre-ordenada es mucho más rápido que ordenar una lista sin ordenar, por lo que la repetición desviará el resultado:"
   ]
  },
  {
   "cell_type": "code",
   "execution_count": 11,
   "metadata": {
    "collapsed": false,
    "deletable": true,
    "editable": true
   },
   "outputs": [
    {
     "name": "stdout",
     "output_type": "stream",
     "text": [
      "The slowest run took 19.16 times longer than the fastest. This could mean that an intermediate result is being cached.\n",
      "100 loops, best of 3: 3.89 ms per loop\n"
     ]
    }
   ],
   "source": [
    "import random\n",
    "L = [random.random() for i in range(100000)]\n",
    "%timeit L.sort()"
   ]
  },
  {
   "cell_type": "markdown",
   "metadata": {
    "deletable": true,
    "editable": true
   },
   "source": [
    "Para esto, la función `%time` puede ser una mejor opción. También es una buena opción para comandos de más larga duración, cuando es poco probable que los retrasos relacionados con el sistema afecten al resultado. "
   ]
  },
  {
   "cell_type": "code",
   "execution_count": 12,
   "metadata": {
    "collapsed": false,
    "deletable": true,
    "editable": true
   },
   "outputs": [
    {
     "name": "stdout",
     "output_type": "stream",
     "text": [
      "Ordenando  una lista sin ordenar:\n",
      "CPU times: user 73.4 ms, sys: 0 ns, total: 73.4 ms\n",
      "Wall time: 73 ms\n"
     ]
    }
   ],
   "source": [
    "import random\n",
    "L = [random.random() for i in range(100000)]\n",
    "print(\"Ordenando  una lista sin ordenar:\")\n",
    "%time L.sort()"
   ]
  },
  {
   "cell_type": "code",
   "execution_count": 13,
   "metadata": {
    "collapsed": false,
    "deletable": true,
    "editable": true
   },
   "outputs": [
    {
     "name": "stdout",
     "output_type": "stream",
     "text": [
      "ordenando una lista ya ordenada:\n",
      "CPU times: user 6.12 ms, sys: 0 ns, total: 6.12 ms\n",
      "Wall time: 6.03 ms\n"
     ]
    }
   ],
   "source": [
    "print(\"ordenando una lista ya ordenada:\")\n",
    "%time L.sort()"
   ]
  },
  {
   "cell_type": "markdown",
   "metadata": {
    "deletable": true,
    "editable": true
   },
   "source": [
    "Observa cuánto más rápida es la ordenación de la lista sin ordenar, pero observa también cuánto tiempo tarda  con `%time` y `timeit`, para la lista sin ordenar. Esto es resultado  de que `%timeit` evita  que las llamadas del sistema interfieran con el tiempo de ejecución. Por esta razón, `% timeit`  suele ser más rápido que `%time`."
   ]
  },
  {
   "cell_type": "markdown",
   "metadata": {
    "deletable": true,
    "editable": true
   },
   "source": [
    "### Numba\n",
    "\n",
    "La biblioteca [numba](http://numba.pydata.org/) proporciona un compilador `just-in-time` para python y  código numpy que se basa en el compilador LLVM. La principal ventaja de numba es que puede generar código de máquina con un mínimo o ningún cambio al código original de python.\n",
    "\n",
    "Uno de los aspectos más atractivos de la biblioteca  Numba es que a menudo se puede utilizar para acelerar el código de Python que utiliza NumPy. Lo único que tenemos que hacer es decorar una función con el decorador `@ numba.jit`, que hace  del código más rápido que el código  de Python, por un factor de varios cientos o más. La aceleración se obtiene principalmente para funciones que utilizan matrices NumPy."
   ]
  },
  {
   "cell_type": "code",
   "execution_count": 14,
   "metadata": {
    "collapsed": true,
    "deletable": true,
    "editable": true
   },
   "outputs": [],
   "source": [
    "def py_suma(data):\n",
    "    s = 0\n",
    "    for d in data:\n",
    "        s += d\n",
    "    return s"
   ]
  },
  {
   "cell_type": "markdown",
   "metadata": {
    "deletable": true,
    "editable": true
   },
   "source": [
    "Los bucles en Python son notoriamente lentos, debido a la flexibilidad de Python y la tipificación dinámica. Para cuantificar esta afirmación y comparar la función `sum_1`, generamos una matriz con `50.000` números aleatorios y usamos el comando `% timeit` de IPython para medir el tiempo de cálculo típico:"
   ]
  },
  {
   "cell_type": "code",
   "execution_count": 15,
   "metadata": {
    "collapsed": false,
    "deletable": true,
    "editable": true
   },
   "outputs": [
    {
     "name": "stdout",
     "output_type": "stream",
     "text": [
      "100 loops, best of 3: 9.79 ms per loop\n"
     ]
    }
   ],
   "source": [
    "import numpy as np\n",
    "\n",
    "data = np.random.randn(50000)\n",
    "%timeit py_suma(data)"
   ]
  },
  {
   "cell_type": "markdown",
   "metadata": {
    "deletable": true,
    "editable": true
   },
   "source": [
    "El resultado sugiere que la suma de los 50.000 elementos en el array `data` utilizando la función `py_suma` suele tardar 9,81 milisegundos en este sistema en particular. Comparado con otros métodos que exploramos a continuación, este no es un buen rendimiento.\n",
    "\n",
    "La solución usual es utilizar operaciones de matriz, como las proporcionadas por NumPy, en lugar de iterar sobre las matrices manualmente. De hecho, NumPy proporciona la función de `sum` que hace exactamente lo que queremos hacer aquí.\n",
    "\n",
    "Para comprobar que la función `py_suma` definida anteriormente produce los mismos resultados que la función de `sum` de NumPy, usamos la declaración `assert` para este efecto:"
   ]
  },
  {
   "cell_type": "code",
   "execution_count": 16,
   "metadata": {
    "collapsed": true,
    "deletable": true,
    "editable": true
   },
   "outputs": [],
   "source": [
    "assert abs(py_suma(data) - np.sum(data)) < 1e-10"
   ]
  },
  {
   "cell_type": "markdown",
   "metadata": {
    "deletable": true,
    "editable": true
   },
   "source": [
    "Dado que assert no produce un error, concluimos que las dos funciones producen el mismo resultado. A continuación, comparamos la función de sum de NumPy usando %timeit de la misma manera que usamos anteriormente:"
   ]
  },
  {
   "cell_type": "code",
   "execution_count": 17,
   "metadata": {
    "collapsed": false,
    "deletable": true,
    "editable": true
   },
   "outputs": [
    {
     "name": "stdout",
     "output_type": "stream",
     "text": [
      "The slowest run took 4.83 times longer than the fastest. This could mean that an intermediate result is being cached.\n",
      "10000 loops, best of 3: 43 µs per loop\n"
     ]
    }
   ],
   "source": [
    "%timeit np.sum(data)"
   ]
  },
  {
   "cell_type": "markdown",
   "metadata": {
    "deletable": true,
    "editable": true
   },
   "source": [
    "La función de `sum` de NumPy es varios cientos de veces más rápida que la función `py_suma`, lo que demuestra que las expresiones y operaciones vectorizadas utilizando, por ejemplo, por  NumPy es la clave para un buen rendimiento en Python. Vemos los mismos fenómenos para otras funciones que usan para bucles. Por ejemplo, considere también la suma acumulativa, `py_cumsum` :"
   ]
  },
  {
   "cell_type": "code",
   "execution_count": 18,
   "metadata": {
    "collapsed": true,
    "deletable": true,
    "editable": true
   },
   "outputs": [],
   "source": [
    "def py_cumsum(data):\n",
    "    salida = np.zeros_like(data)\n",
    "    s = 0\n",
    "    for n in range(len(data)):\n",
    "        s += data[n]\n",
    "        salida[n] = s\n",
    "    return salida"
   ]
  },
  {
   "cell_type": "markdown",
   "metadata": {
    "deletable": true,
    "editable": true
   },
   "source": [
    "Comparemos esta función con respecto a la función correspondiente de Numpy:"
   ]
  },
  {
   "cell_type": "code",
   "execution_count": 19,
   "metadata": {
    "collapsed": false,
    "deletable": true,
    "editable": true
   },
   "outputs": [
    {
     "name": "stdout",
     "output_type": "stream",
     "text": [
      "10 loops, best of 3: 20.7 ms per loop\n"
     ]
    }
   ],
   "source": [
    "%timeit py_cumsum(data)"
   ]
  },
  {
   "cell_type": "code",
   "execution_count": 20,
   "metadata": {
    "collapsed": false,
    "deletable": true,
    "editable": true
   },
   "outputs": [
    {
     "name": "stdout",
     "output_type": "stream",
     "text": [
      "1000 loops, best of 3: 270 µs per loop\n"
     ]
    }
   ],
   "source": [
    "%timeit np.cumsum(data)"
   ]
  },
  {
   "cell_type": "markdown",
   "metadata": {
    "deletable": true,
    "editable": true
   },
   "source": [
    "Ahora veamos cómo se puede utilizar Numba para acelerar las funciones `py_suma` y `py_cumsum`. Para activar la compilación JIT de una función, simplemente aplicamos el decorador `@ numba.jit`:"
   ]
  },
  {
   "cell_type": "code",
   "execution_count": 21,
   "metadata": {
    "collapsed": true,
    "deletable": true,
    "editable": true
   },
   "outputs": [],
   "source": [
    "import numba \n",
    "@numba.jit\n",
    "def jit_suma(data):\n",
    "    s = 0\n",
    "    for d in data:\n",
    "        s += d\n",
    "    return s"
   ]
  },
  {
   "cell_type": "markdown",
   "metadata": {
    "deletable": true,
    "editable": true
   },
   "source": [
    "Ahora verificamos que la función JIT produce el mismo resultado que la función `sum` de Numpy y los comparamos con la función `%timeit`:"
   ]
  },
  {
   "cell_type": "code",
   "execution_count": 22,
   "metadata": {
    "collapsed": true,
    "deletable": true,
    "editable": true
   },
   "outputs": [],
   "source": [
    "assert abs(jit_suma(data) - np.sum(data)) < 1e-10"
   ]
  },
  {
   "cell_type": "code",
   "execution_count": 23,
   "metadata": {
    "collapsed": false,
    "deletable": true,
    "editable": true
   },
   "outputs": [
    {
     "name": "stdout",
     "output_type": "stream",
     "text": [
      "10000 loops, best of 3: 89.5 µs per loop\n"
     ]
    }
   ],
   "source": [
    "%timeit jit_suma(data)"
   ]
  },
  {
   "cell_type": "markdown",
   "metadata": {
    "deletable": true,
    "editable": true
   },
   "source": [
    "Comparado con las funciones de Python, la función `jit_suma` es aproximadamente `300` veces más rápida y alcanza un rendimiento que es comparable a la función  `sum` de  NumPy a pesar de estar escrito en Python puro.\n",
    "\n",
    "Además de que  `JIT`  compila una función aplicando el decorador `numba.jit` cuando se define la función, podemos aplicar el decorador después. Por ejemplo, para cuando `JIT` compila la función `py_cumsum` que definimos anteriormente, podemos usar:"
   ]
  },
  {
   "cell_type": "code",
   "execution_count": 24,
   "metadata": {
    "collapsed": true,
    "deletable": true,
    "editable": true
   },
   "outputs": [],
   "source": [
    "jit_cumsum = numba.jit()(py_cumsum)"
   ]
  },
  {
   "cell_type": "markdown",
   "metadata": {
    "deletable": true,
    "editable": true
   },
   "source": [
    "Verificamos que la función resultante `jit_cumsum` efectivamente produce el mismo resultado que la función de  NumPy correspondiente y la comparamos usando `%timeit`:"
   ]
  },
  {
   "cell_type": "code",
   "execution_count": 25,
   "metadata": {
    "collapsed": true,
    "deletable": true,
    "editable": true
   },
   "outputs": [],
   "source": [
    "assert np.allclose(np.cumsum(data), jit_cumsum(data))"
   ]
  },
  {
   "cell_type": "code",
   "execution_count": 26,
   "metadata": {
    "collapsed": false,
    "deletable": true,
    "editable": true
   },
   "outputs": [
    {
     "name": "stdout",
     "output_type": "stream",
     "text": [
      "10000 loops, best of 3: 120 µs per loop\n"
     ]
    }
   ],
   "source": [
    "%timeit jit_cumsum(data)"
   ]
  },
  {
   "cell_type": "markdown",
   "metadata": {
    "deletable": true,
    "editable": true
   },
   "source": [
    "En este caso, la función `jit_cumsum` supera a la función `cumsum` de NumPy. La función `cumsum ` de NumPy  es más versátil que la función `jit_cumsum`, por lo que la comparación no es del todo justa, pero es notable que podamos alcanzar un rendimiento comparable al código compilado por JIT compilando código Python con un solo decorador de funciones. Esto nos permite usar cálculos basados en bucle en Python sin bajar  el rendimiento, lo cual es particularmente útil para algoritmos que no son fácilmente escritos en forma vectorizada."
   ]
  },
  {
   "cell_type": "markdown",
   "metadata": {
    "deletable": true,
    "editable": true
   },
   "source": [
    "### % prun\n",
    "\n",
    "Un programa se hace de muchas declaraciones individuales y a veces el tiempo de ejecución de estas declaraciones en el contexto es más importante que el tiempo de ejecución en  forma individual. Python contiene un generador de perfiles incorporado (que se puede leer en la documentación de Python), pero IPython ofrece una forma mucho más conveniente de usar este profiler, en forma de la función mágica `%prun`. Veamos un ejemplo:"
   ]
  },
  {
   "cell_type": "code",
   "execution_count": 27,
   "metadata": {
    "collapsed": true,
    "deletable": true,
    "editable": true
   },
   "outputs": [],
   "source": [
    "def suma_de_listas(N):\n",
    "    total = 0\n",
    "    for i in range(5):\n",
    "        L = [j ^ (j >> i) for j in range(N)]\n",
    "        total += sum(L)\n",
    "    return total"
   ]
  },
  {
   "cell_type": "code",
   "execution_count": 28,
   "metadata": {
    "collapsed": false,
    "deletable": true,
    "editable": true
   },
   "outputs": [
    {
     "name": "stdout",
     "output_type": "stream",
     "text": [
      " "
     ]
    }
   ],
   "source": [
    "%prun suma_de_listas(1000000)"
   ]
  },
  {
   "cell_type": "markdown",
   "metadata": {
    "deletable": true,
    "editable": true
   },
   "source": [
    "El resultado es una tabla que indica, en orden de tiempo cada llamada de función, donde la ejecución está pasando más tiempo. En este caso, la mayor parte del tiempo de ejecución se encuentra en la lista de comprensión dentro de `suma_de_listas`. A partir de aquí, podríamos empezar a pensar en los cambios que podríamos hacer para mejorar el rendimiento en el algoritmo.\n",
    "\n",
    "Para obtener más información sobre `% prun`, así como sus opciones disponibles, utiliza la funcionalidad de ayuda de IPython (es decir, escribe `% prun?`  en el indicador de IPython y Jupyter)."
   ]
  },
  {
   "cell_type": "markdown",
   "metadata": {
    "deletable": true,
    "editable": true
   },
   "source": [
    "### %lprun\n",
    "\n",
    "A veces es conveniente tener un informe  línea por línea en los códigos de Python. Esta propiedad  no está integrada en Python o IPython, pero hay un paquete `line_profiler` disponible para la instalación que puede hacer esto. Podemos instalar este paquete utilizando `pip` o `conda`.\n",
    "\n",
    "```\n",
    "pip install line_profiler\n",
    "```"
   ]
  },
  {
   "cell_type": "code",
   "execution_count": 29,
   "metadata": {
    "collapsed": false,
    "deletable": true,
    "editable": true
   },
   "outputs": [],
   "source": [
    "%load_ext line_profiler"
   ]
  },
  {
   "cell_type": "code",
   "execution_count": 30,
   "metadata": {
    "collapsed": true,
    "deletable": true,
    "editable": true
   },
   "outputs": [],
   "source": [
    "%lprun -f suma_de_listas suma_de_listas(5000)"
   ]
  },
  {
   "cell_type": "markdown",
   "metadata": {
    "deletable": true,
    "editable": true
   },
   "source": [
    "La información en la parte superior nos da la clave para leer los resultados: el tiempo se informa en microsegundos y podemos ver donde el programa está pasando más tiempo. En este punto, podemos ser capaces de usar esta información para modificar aspectos del programa  y hacer que funcione mejor .\n",
    "\n",
    "Para obtener más información sobre `%lprun`, así como sus opciones disponibles, utiliza la funcionalidad de ayuda de IPython (es decir, escribe `%lprun?` en el indicador de IPython)."
   ]
  },
  {
   "cell_type": "markdown",
   "metadata": {
    "deletable": true,
    "editable": true
   },
   "source": [
    "### %memit and %mprun\n",
    "\n",
    "Otro aspecto del perfilado es la cantidad de memoria que una operación utiliza. Esto se puede evaluar con otra extensión de IPython, `memory_profiler`.  Al igual que con `line_profiler`, comenzamos a instalar:\n",
    "\n",
    "```\n",
    "pip install memory_profiler\n",
    "```"
   ]
  },
  {
   "cell_type": "code",
   "execution_count": 31,
   "metadata": {
    "collapsed": false,
    "deletable": true,
    "editable": true
   },
   "outputs": [],
   "source": [
    "%load_ext memory_profiler"
   ]
  },
  {
   "cell_type": "markdown",
   "metadata": {
    "deletable": true,
    "editable": true
   },
   "source": [
    "La extensión  contiene dos funciones mágicas útiles: `% memit` (que ofrece un equivalente de  memoria a % `timeit`) y la función `%mprun` (que ofrece un equivalente de memoria a % `lprun`). La función `%memit` se puede utilizar de forma más sencilla:"
   ]
  },
  {
   "cell_type": "code",
   "execution_count": 32,
   "metadata": {
    "collapsed": false,
    "deletable": true,
    "editable": true
   },
   "outputs": [
    {
     "name": "stdout",
     "output_type": "stream",
     "text": [
      "peak memory: 162.72 MiB, increment: 74.32 MiB\n"
     ]
    }
   ],
   "source": [
    "%memit suma_de_listas(1000000)"
   ]
  },
  {
   "cell_type": "markdown",
   "metadata": {
    "deletable": true,
    "editable": true
   },
   "source": [
    "Vemos que esta función utiliza alrededor de 150 MB de memoria.\n",
    "\n",
    "Para una descripción línea por línea del uso de memoria, podemos usar % mprun. Desafortunadamente, esta función funciona sólo para funciones definidas en módulos independientes , por lo que comenzaremos usando el comando mágico %%file para crear un módulo llamado mprun_demo.py, que contiene la función suma_de_listas, con una adición que hará que nuestros resultados de perfil de memoria más claros:\n"
   ]
  },
  {
   "cell_type": "code",
   "execution_count": 33,
   "metadata": {
    "collapsed": false,
    "deletable": true,
    "editable": true
   },
   "outputs": [
    {
     "name": "stdout",
     "output_type": "stream",
     "text": [
      "Overwriting mprun_demo.py\n"
     ]
    }
   ],
   "source": [
    "%%file mprun_demo.py\n",
    "def suma_de_listas(N):\n",
    "    total = 0\n",
    "    for i in range(5):\n",
    "        L = [j ^ (j >> i) for j in range(N)]\n",
    "        total += sum(L)\n",
    "    return total"
   ]
  },
  {
   "cell_type": "markdown",
   "metadata": {
    "deletable": true,
    "editable": true
   },
   "source": [
    "Ahora podemos importar la nueva versión de esta función y ejecutar el profiler de la línea de memoria:\n",
    "\n",
    "```\n",
    "from mprun_demo import suma_de_listas\n",
    "%mprun -f suma_de_listas suma_de_listas(10000)\n",
    "```"
   ]
  },
  {
   "cell_type": "markdown",
   "metadata": {
    "deletable": true,
    "editable": true
   },
   "source": [
    "Para obtener más información sobre `% memit` y `% mprun`, así como sus opciones disponibles, utiliza la funcionalidad de ayuda de IPython (es decir, escriba `% memit?` en el indicador de IPython-Jupyter)."
   ]
  },
  {
   "cell_type": "markdown",
   "metadata": {
    "deletable": true,
    "editable": true
   },
   "source": [
    "### Ejemplo1 "
   ]
  },
  {
   "cell_type": "code",
   "execution_count": 34,
   "metadata": {
    "collapsed": false,
    "deletable": true,
    "editable": true
   },
   "outputs": [
    {
     "data": {
      "text/plain": [
       "'0.18.1'"
      ]
     },
     "execution_count": 34,
     "metadata": {},
     "output_type": "execute_result"
    }
   ],
   "source": [
    "import numpy as np\n",
    "import pandas as pd\n",
    "np.random.seed(1234)\n",
    "pd.__version__"
   ]
  },
  {
   "cell_type": "code",
   "execution_count": 35,
   "metadata": {
    "collapsed": true,
    "deletable": true,
    "editable": true
   },
   "outputs": [],
   "source": [
    "arr = np.random.randn(1000000, 10)"
   ]
  },
  {
   "cell_type": "code",
   "execution_count": 36,
   "metadata": {
    "collapsed": false,
    "deletable": true,
    "editable": true
   },
   "outputs": [
    {
     "name": "stdout",
     "output_type": "stream",
     "text": [
      "<class 'pandas.core.frame.DataFrame'>\n",
      "RangeIndex: 1000000 entries, 0 to 999999\n",
      "Data columns (total 10 columns):\n",
      "0    1000000 non-null float64\n",
      "1    1000000 non-null float64\n",
      "2    1000000 non-null float64\n",
      "3    1000000 non-null float64\n",
      "4    1000000 non-null float64\n",
      "5    1000000 non-null float64\n",
      "6    1000000 non-null float64\n",
      "7    1000000 non-null float64\n",
      "8    1000000 non-null float64\n",
      "9    1000000 non-null float64\n",
      "dtypes: float64(10)\n",
      "memory usage: 76.3 MB\n"
     ]
    }
   ],
   "source": [
    "df = pd.DataFrame(arr)\n",
    "df.info()"
   ]
  },
  {
   "cell_type": "markdown",
   "metadata": {
    "deletable": true,
    "editable": true
   },
   "source": [
    "Construyendo esto desde un array de Numpy:"
   ]
  },
  {
   "cell_type": "code",
   "execution_count": 37,
   "metadata": {
    "collapsed": false,
    "deletable": true,
    "editable": true
   },
   "outputs": [
    {
     "name": "stdout",
     "output_type": "stream",
     "text": [
      "10000 loops, best of 3: 149 µs per loop\n"
     ]
    }
   ],
   "source": [
    "%timeit pd.DataFrame(arr)"
   ]
  },
  {
   "cell_type": "code",
   "execution_count": 38,
   "metadata": {
    "collapsed": false,
    "deletable": true,
    "editable": true
   },
   "outputs": [
    {
     "data": {
      "text/plain": [
       "0    1405.248349\n",
       "1     717.455769\n",
       "2     -41.601276\n",
       "3    -735.066948\n",
       "4      24.217678\n",
       "5     879.240977\n",
       "6   -1041.996276\n",
       "7     967.221230\n",
       "8    -561.771728\n",
       "9    -901.415467\n",
       "dtype: float64"
      ]
     },
     "execution_count": 38,
     "metadata": {},
     "output_type": "execute_result"
    }
   ],
   "source": [
    "data_suma = df.sum()\n",
    "data_suma"
   ]
  },
  {
   "cell_type": "code",
   "execution_count": 39,
   "metadata": {
    "collapsed": false,
    "deletable": true,
    "editable": true
   },
   "outputs": [
    {
     "name": "stdout",
     "output_type": "stream",
     "text": [
      "10 loops, best of 3: 78.3 ms per loop\n"
     ]
    }
   ],
   "source": [
    "%timeit df.sum()"
   ]
  },
  {
   "cell_type": "markdown",
   "metadata": {
    "deletable": true,
    "editable": true
   },
   "source": [
    "### Ejemplo 2"
   ]
  },
  {
   "cell_type": "code",
   "execution_count": 40,
   "metadata": {
    "collapsed": false,
    "deletable": true,
    "editable": true
   },
   "outputs": [
    {
     "name": "stdout",
     "output_type": "stream",
     "text": [
      "<class 'pandas.core.frame.DataFrame'>\n",
      "RangeIndex: 10000000 entries, 0 to 9999999\n",
      "Data columns (total 2 columns):\n",
      "A    float64\n",
      "B    float64\n",
      "dtypes: float64(2)\n",
      "memory usage: 152.6 MB\n"
     ]
    }
   ],
   "source": [
    "df1 = pd.DataFrame(np.random.randn(10000000,2),columns=list('AB'))\n",
    "df1.info()"
   ]
  },
  {
   "cell_type": "code",
   "execution_count": 41,
   "metadata": {
    "collapsed": true,
    "deletable": true,
    "editable": true
   },
   "outputs": [],
   "source": [
    "import numexpr as ne\n",
    "\n",
    "def f_vectorizado_numpy(df1):\n",
    "    return (df1['A'].values*2 + df1['B'].values + 1).sum()\n",
    "def f_vectorizado_pandas(df1):\n",
    "    return (df1['A']*2 + df1['B'] + 1).sum()\n",
    "def f_numexpr(df1):\n",
    "    a = df1['A'].values\n",
    "    b = df1['B'].values\n",
    "    return ne.evaluate('sum(a*2 + b + 1)',local_dict = { 'a' : a, 'b' : b }).item()"
   ]
  },
  {
   "cell_type": "code",
   "execution_count": 42,
   "metadata": {
    "collapsed": false,
    "deletable": true,
    "editable": true
   },
   "outputs": [],
   "source": [
    "import numba\n",
    "@numba.jit\n",
    "def _numba(a, b):\n",
    "    resultado = 0.0\n",
    "    assert len(a) == len(b)\n",
    "    for i in range(len(a)):\n",
    "        resultado += a[i]*2 + b[i] + 1.0\n",
    "    return resultado\n",
    "\n",
    "def f_numba(df1):\n",
    "    return _numba(df1['A'].values,df1['B'].values)"
   ]
  },
  {
   "cell_type": "code",
   "execution_count": 43,
   "metadata": {
    "collapsed": false,
    "deletable": true,
    "editable": true
   },
   "outputs": [
    {
     "data": {
      "text/plain": [
       "5.0376369742366478e-15"
      ]
     },
     "execution_count": 43,
     "metadata": {},
     "output_type": "execute_result"
    }
   ],
   "source": [
    "np.var([f_vectorizado_numpy(df1),f_vectorizado_pandas(df1),f_numexpr(df1),f_numba(df1)])"
   ]
  },
  {
   "cell_type": "code",
   "execution_count": 44,
   "metadata": {
    "collapsed": false,
    "deletable": true,
    "editable": true
   },
   "outputs": [
    {
     "name": "stdout",
     "output_type": "stream",
     "text": [
      "1 loop, best of 3: 161 ms per loop\n"
     ]
    }
   ],
   "source": [
    "%timeit f_vectorizado_numpy(df1)"
   ]
  },
  {
   "cell_type": "code",
   "execution_count": 45,
   "metadata": {
    "collapsed": false,
    "deletable": true,
    "editable": true
   },
   "outputs": [
    {
     "name": "stdout",
     "output_type": "stream",
     "text": [
      "10 loops, best of 3: 160 ms per loop\n"
     ]
    }
   ],
   "source": [
    "%timeit f_vectorizado_pandas(df1)"
   ]
  },
  {
   "cell_type": "code",
   "execution_count": 46,
   "metadata": {
    "collapsed": false,
    "deletable": true,
    "editable": true
   },
   "outputs": [
    {
     "name": "stdout",
     "output_type": "stream",
     "text": [
      "10 loops, best of 3: 57.3 ms per loop\n"
     ]
    }
   ],
   "source": [
    "%timeit f_numexpr(df1)"
   ]
  },
  {
   "cell_type": "code",
   "execution_count": 47,
   "metadata": {
    "collapsed": false,
    "deletable": true,
    "editable": true
   },
   "outputs": [
    {
     "name": "stdout",
     "output_type": "stream",
     "text": [
      "10 loops, best of 3: 26.5 ms per loop\n"
     ]
    }
   ],
   "source": [
    "%timeit f_numba(df1)"
   ]
  },
  {
   "cell_type": "markdown",
   "metadata": {
    "deletable": true,
    "editable": true
   },
   "source": [
    "### Ejemplo 3"
   ]
  },
  {
   "cell_type": "code",
   "execution_count": 48,
   "metadata": {
    "collapsed": true,
    "deletable": true,
    "editable": true
   },
   "outputs": [],
   "source": [
    "# Metodos de indexado\n",
    "\n",
    "def f_ix(df):\n",
    "    df.ix[0,0] = 0\n",
    "def f_loc(df):\n",
    "    df.loc[0,'A'] = 0\n",
    "def f_iloc(df):\n",
    "    df.iloc[0,0] = 0\n",
    "def f_at(df):\n",
    "    df.at[0,'A'] = 0\n",
    "def f_iat(df):\n",
    "    df.iat[0,0] = 0\n",
    "def f_numpy(df):\n",
    "    df.values[0,0] = 0\n",
    "\n",
    "def cf():    \n",
    "    return pd.DataFrame(np.random.randn(100000,2),columns=list('AB'))"
   ]
  },
  {
   "cell_type": "code",
   "execution_count": 49,
   "metadata": {
    "collapsed": true,
    "deletable": true,
    "editable": true
   },
   "outputs": [],
   "source": [
    "def numpy_iterativo(df):\n",
    "    na = df.values\n",
    "    for i in range(len(df)):\n",
    "        na[i,0] = 0\n",
    "def pandas_iterativo(df):\n",
    "    for i in range(len(df)):\n",
    "        df.iat[i,0] = 0\n",
    "def pandas_vectorizado(df2):\n",
    "    df.iloc[:,0] = np.zeros(len(df))"
   ]
  },
  {
   "cell_type": "code",
   "execution_count": 50,
   "metadata": {
    "collapsed": true,
    "deletable": true,
    "editable": true
   },
   "outputs": [],
   "source": [
    "t = {}"
   ]
  },
  {
   "cell_type": "code",
   "execution_count": 51,
   "metadata": {
    "collapsed": false,
    "deletable": true,
    "editable": true
   },
   "outputs": [
    {
     "name": "stdout",
     "output_type": "stream",
     "text": [
      "10 loops, best of 1: 27.5 ms per loop\n"
     ]
    }
   ],
   "source": [
    "df = cf()\n",
    "x = %timeit -o -r 1 numpy_iterativo(df)\n",
    "t['numpy_iterativo'] = x.best"
   ]
  },
  {
   "cell_type": "code",
   "execution_count": 52,
   "metadata": {
    "collapsed": false,
    "deletable": true,
    "editable": true
   },
   "outputs": [
    {
     "name": "stdout",
     "output_type": "stream",
     "text": [
      "1 loop, best of 1: 1.68 s per loop\n"
     ]
    }
   ],
   "source": [
    "df = cf()\n",
    "x = %timeit -o -r 1 pandas_iterativo(df)\n",
    "t['pandas_iterativo'] = x.best"
   ]
  },
  {
   "cell_type": "code",
   "execution_count": 53,
   "metadata": {
    "collapsed": false,
    "deletable": true,
    "editable": true
   },
   "outputs": [
    {
     "name": "stdout",
     "output_type": "stream",
     "text": [
      "The slowest run took 41.26 times longer than the fastest. This could mean that an intermediate result is being cached.\n",
      "1000 loops, best of 1: 925 µs per loop\n"
     ]
    }
   ],
   "source": [
    "df = cf()\n",
    "x = %timeit -o -r 1 pandas_vectorizado(df)\n",
    "t['pandas_vectorizado'] = x.best"
   ]
  },
  {
   "cell_type": "code",
   "execution_count": 55,
   "metadata": {
    "collapsed": false,
    "deletable": true,
    "editable": true
   },
   "outputs": [
    {
     "data": {
      "text/plain": [
       "<matplotlib.axes._subplots.AxesSubplot at 0x7f450c1c7550>"
      ]
     },
     "execution_count": 55,
     "metadata": {},
     "output_type": "execute_result"
    },
    {
     "data": {
      "image/png": "[encoded data removed]",
      "text/plain": [
       "<matplotlib.figure.Figure at 0x7f450c1e0668>"
      ]
     },
     "metadata": {},
     "output_type": "display_data"
    }
   ],
   "source": [
    "%matplotlib inline\n",
    "(pd.Series(t).sort_values(ascending=False)\n",
    "          .plot\n",
    "          .barh(log=True)\n",
    " )"
   ]
  },
  {
   "cell_type": "markdown",
   "metadata": {
    "deletable": true,
    "editable": true
   },
   "source": [
    "### Ejemplo 4"
   ]
  },
  {
   "cell_type": "code",
   "execution_count": 56,
   "metadata": {
    "collapsed": false,
    "deletable": true,
    "editable": true
   },
   "outputs": [
    {
     "data": {
      "text/html": [
       "<div>\n",
       "<table border=\"1\" class=\"dataframe\">\n",
       "  <thead>\n",
       "    <tr style=\"text-align: right;\">\n",
       "      <th></th>\n",
       "      <th>lat</th>\n",
       "      <th>lon</th>\n",
       "    </tr>\n",
       "  </thead>\n",
       "  <tbody>\n",
       "    <tr>\n",
       "      <th>0</th>\n",
       "      <td>34.000000</td>\n",
       "      <td>-120.000000</td>\n",
       "    </tr>\n",
       "    <tr>\n",
       "      <th>1</th>\n",
       "      <td>33.982394</td>\n",
       "      <td>-120.035766</td>\n",
       "    </tr>\n",
       "    <tr>\n",
       "      <th>2</th>\n",
       "      <td>34.011241</td>\n",
       "      <td>-120.112484</td>\n",
       "    </tr>\n",
       "    <tr>\n",
       "      <th>3</th>\n",
       "      <td>34.069402</td>\n",
       "      <td>-120.137857</td>\n",
       "    </tr>\n",
       "    <tr>\n",
       "      <th>4</th>\n",
       "      <td>34.080036</td>\n",
       "      <td>-120.146169</td>\n",
       "    </tr>\n",
       "  </tbody>\n",
       "</table>\n",
       "</div>"
      ],
      "text/plain": [
       "         lat         lon\n",
       "0  34.000000 -120.000000\n",
       "1  33.982394 -120.035766\n",
       "2  34.011241 -120.112484\n",
       "3  34.069402 -120.137857\n",
       "4  34.080036 -120.146169"
      ]
     },
     "execution_count": 56,
     "metadata": {},
     "output_type": "execute_result"
    }
   ],
   "source": [
    "# Secuencia de coordenadas que representan un camino aleatorio desde un origen\n",
    "\n",
    "origen = {'lat': 34, 'lon': -120}\n",
    "np.random.seed(1)\n",
    "n = 100000\n",
    "cambios = np.random.randn(n, 2) / 30\n",
    "cambios[0] = [0, 0]\n",
    "traza = pd.DataFrame.from_records(cambios, columns=['lat', 'lon']).cumsum()\n",
    "traza['lat'] += origen['lat']\n",
    "traza['lon'] += origen['lon']\n",
    "\n",
    "traza.head()\n"
   ]
  },
  {
   "cell_type": "code",
   "execution_count": 57,
   "metadata": {
    "collapsed": true,
    "deletable": true,
    "editable": true
   },
   "outputs": [],
   "source": [
    "# Calculemos las distancias entre el origen y el camino aleatorio\n",
    "# via la formula de Haversine (distancia usada por los GPS)\n",
    "\n",
    "from math import radians, cos, sin, asin, sqrt\n",
    "def haversine(lat1, lon1, lat2, lon2):\n",
    "    \"\"\"\n",
    "    Calculamos la distancia entre dos puntos de la tierra (espec. lat/lon)\n",
    "    \"\"\"\n",
    "    # convertimos a radianes\n",
    "    lon1, lat1, lon2, lat2 = map(radians, [lon1, lat1, lon2, lat2])\n",
    "    # Formula haversine \n",
    "    dlon = lon2 - lon1\n",
    "    dlat = lat2 - lat1\n",
    "    a = sin(dlat / 2)**2 + cos(lat1) * cos(lat2) * sin(dlon / 2)**2\n",
    "    c = 2 * asin(sqrt(a))\n",
    "    radio_tierra = 6367\n",
    "    distancia_km = radio_tierra * c\n",
    "    return distancia_km"
   ]
  },
  {
   "cell_type": "code",
   "execution_count": 58,
   "metadata": {
    "collapsed": true,
    "deletable": true,
    "editable": true
   },
   "outputs": [],
   "source": [
    "# Implementemos algunas funciones para implementar la distancia maxima del camino aleatorio al origen\n",
    "\n",
    "def distancias1(traza ,origen):\n",
    "    distancia = {}\n",
    "    for i in traza.index:\n",
    "        distancia[i] = haversine(traza['lat'].loc[i], traza['lon'].loc[i], origen['lat'], origen['lon'])\n",
    "    distancia = pd.Series(distancia)\n",
    "    return distancia\n",
    "\n",
    "def distancia_mayor(traza, origen):\n",
    "    distancia1 = distancias1(traza, origen)\n",
    "    max_idx = distancia1.argmax()\n",
    "    return traza.loc[max_idx], distancia1.loc[max_idx]"
   ]
  },
  {
   "cell_type": "code",
   "execution_count": 59,
   "metadata": {
    "collapsed": false,
    "deletable": true,
    "editable": true
   },
   "outputs": [
    {
     "data": {
      "text/plain": [
       "(lat     54.648484\n",
       " lon   -109.343278\n",
       " Name: 97647, dtype: float64, 2439.5707960599893)"
      ]
     },
     "execution_count": 59,
     "metadata": {},
     "output_type": "execute_result"
    }
   ],
   "source": [
    "distancia_mayor(traza, origen)"
   ]
  },
  {
   "cell_type": "code",
   "execution_count": 60,
   "metadata": {
    "collapsed": false,
    "deletable": true,
    "editable": true
   },
   "outputs": [
    {
     "name": "stdout",
     "output_type": "stream",
     "text": [
      "1 loop, best of 3: 12 s per loop\n"
     ]
    }
   ],
   "source": [
    "# Usamos timeit para el tiempo de ejecucion\n",
    "\n",
    "%timeit distancias1(traza, origen)"
   ]
  },
  {
   "cell_type": "code",
   "execution_count": 61,
   "metadata": {
    "collapsed": false,
    "deletable": true,
    "editable": true
   },
   "outputs": [],
   "source": [
    "# Utilizamos lprun para averiguar por que estan lento el codigo\n",
    "\n",
    "%lprun -f distancias1 distancias1(traza, origen)"
   ]
  },
  {
   "cell_type": "markdown",
   "metadata": {
    "deletable": true,
    "editable": true
   },
   "source": [
    "Analicemos `distancias1`, con `lprun`, que parece que es el problema..."
   ]
  },
  {
   "cell_type": "code",
   "execution_count": 62,
   "metadata": {
    "collapsed": true,
    "deletable": true,
    "editable": true
   },
   "outputs": [],
   "source": [
    "%lprun -f distancias1 distancia_mayor(traza, origen)"
   ]
  },
  {
   "cell_type": "markdown",
   "metadata": {
    "deletable": true,
    "editable": true
   },
   "source": [
    "Ahora   la función `haversine()`  parace ser  el problema..."
   ]
  },
  {
   "cell_type": "code",
   "execution_count": 63,
   "metadata": {
    "collapsed": true,
    "deletable": true,
    "editable": true
   },
   "outputs": [],
   "source": [
    "%lprun -f haversine distancia_mayor(traza, origen)"
   ]
  },
  {
   "cell_type": "markdown",
   "metadata": {
    "deletable": true,
    "editable": true
   },
   "source": [
    "Parece que el problema no es la función en si sino el bucle alrededor de el."
   ]
  },
  {
   "cell_type": "code",
   "execution_count": null,
   "metadata": {
    "collapsed": true,
    "deletable": true,
    "editable": true
   },
   "outputs": [],
   "source": []
  }
 ],
 "metadata": {
  "kernelspec": {
   "display_name": "Python 3",
   "language": "python",
   "name": "python3"
  },
  "language_info": {
   "codemirror_mode": {
    "name": "ipython",
    "version": 3
   },
   "file_extension": ".py",
   "mimetype": "text/x-python",
   "name": "python",
   "nbconvert_exporter": "python",
   "pygments_lexer": "ipython3",
   "version": "3.5.2"
  }
 },
 "nbformat": 4,
 "nbformat_minor": 1
}
